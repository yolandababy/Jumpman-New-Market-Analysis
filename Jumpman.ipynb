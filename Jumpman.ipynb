{
 "cells": [
  {
   "cell_type": "markdown",
   "metadata": {},
   "source": [
    "# Jumpman New Market Analysis"
   ]
  },
  {
   "cell_type": "markdown",
   "metadata": {},
   "source": [
    "### Ye Yuan"
   ]
  },
  {
   "cell_type": "code",
   "execution_count": 1,
   "metadata": {
    "collapsed": true
   },
   "outputs": [],
   "source": [
    "import pandas as pd\n",
    "import numpy as np\n",
    "import geocoder"
   ]
  },
  {
   "cell_type": "code",
   "execution_count": 2,
   "metadata": {
    "collapsed": true
   },
   "outputs": [],
   "source": [
    "Jumpman23 = pd.read_csv(\"Analysis_me.csv\")"
   ]
  },
  {
   "cell_type": "code",
   "execution_count": 3,
   "metadata": {},
   "outputs": [
    {
     "name": "stdout",
     "output_type": "stream",
     "text": [
      "<class 'pandas.core.frame.DataFrame'>\n",
      "RangeIndex: 5983 entries, 0 to 5982\n",
      "Data columns (total 27 columns):\n",
      "delivery_id                            5983 non-null int64\n",
      "customer_id                            5983 non-null int64\n",
      "jumpman_id                             5983 non-null int64\n",
      "vehicle_type                           5983 non-null object\n",
      "pickup_place                           5983 non-null object\n",
      "place_category                         5100 non-null object\n",
      "item_name                              4753 non-null object\n",
      "item_quantity                          4753 non-null float64\n",
      "item_category_name                     4753 non-null object\n",
      "how_long_it_took_to_order              3038 non-null float64\n",
      "pickup_lat                             5983 non-null float64\n",
      "pickup_lon                             5983 non-null float64\n",
      "dropoff_lat                            5983 non-null float64\n",
      "dropoff_lon                            5983 non-null float64\n",
      "Date                                   5983 non-null object\n",
      "Day_of_week                            5983 non-null object\n",
      "Time_the_delivery_started              5983 non-null object\n",
      "Time_of_day                            5983 non-null object\n",
      "date_the_Jumpman_arrived_at_pickup     5433 non-null object\n",
      "time_the_Jumpman_arrived_at_pickup     5433 non-null object\n",
      "date_the_Jumpman_left_pickup           5433 non-null object\n",
      "time_the_Jumpman_left_pickup           5433 non-null object\n",
      "date_the_Jumpman_arrived_at_dropoff    5983 non-null object\n",
      "time_the_Jumpman_arrived_at_dropoff    5983 non-null object\n",
      "Minutes_from_start_to_deliver          5983 non-null int64\n",
      "Minutes_in_pickup                      5983 non-null int64\n",
      "Minutes_pickup_dropoff                 5983 non-null int64\n",
      "dtypes: float64(6), int64(6), object(15)\n",
      "memory usage: 1.2+ MB\n"
     ]
    }
   ],
   "source": [
    "Jumpman23.info()"
   ]
  },
  {
   "cell_type": "code",
   "execution_count": 4,
   "metadata": {
    "scrolled": true
   },
   "outputs": [
    {
     "data": {
      "text/html": [
       "<div>\n",
       "<style>\n",
       "    .dataframe thead tr:only-child th {\n",
       "        text-align: right;\n",
       "    }\n",
       "\n",
       "    .dataframe thead th {\n",
       "        text-align: left;\n",
       "    }\n",
       "\n",
       "    .dataframe tbody tr th {\n",
       "        vertical-align: top;\n",
       "    }\n",
       "</style>\n",
       "<table border=\"1\" class=\"dataframe\">\n",
       "  <thead>\n",
       "    <tr style=\"text-align: right;\">\n",
       "      <th></th>\n",
       "      <th>delivery_id</th>\n",
       "      <th>customer_id</th>\n",
       "      <th>jumpman_id</th>\n",
       "      <th>vehicle_type</th>\n",
       "      <th>pickup_place</th>\n",
       "      <th>place_category</th>\n",
       "      <th>item_name</th>\n",
       "      <th>item_quantity</th>\n",
       "      <th>item_category_name</th>\n",
       "      <th>how_long_it_took_to_order</th>\n",
       "      <th>...</th>\n",
       "      <th>Time_of_day</th>\n",
       "      <th>date_the_Jumpman_arrived_at_pickup</th>\n",
       "      <th>time_the_Jumpman_arrived_at_pickup</th>\n",
       "      <th>date_the_Jumpman_left_pickup</th>\n",
       "      <th>time_the_Jumpman_left_pickup</th>\n",
       "      <th>date_the_Jumpman_arrived_at_dropoff</th>\n",
       "      <th>time_the_Jumpman_arrived_at_dropoff</th>\n",
       "      <th>Minutes_from_start_to_deliver</th>\n",
       "      <th>Minutes_in_pickup</th>\n",
       "      <th>Minutes_pickup_dropoff</th>\n",
       "    </tr>\n",
       "  </thead>\n",
       "  <tbody>\n",
       "    <tr>\n",
       "      <th>0</th>\n",
       "      <td>1457973</td>\n",
       "      <td>327168</td>\n",
       "      <td>162381</td>\n",
       "      <td>van</td>\n",
       "      <td>Melt Shop</td>\n",
       "      <td>American</td>\n",
       "      <td>Lemonade</td>\n",
       "      <td>1.0</td>\n",
       "      <td>Beverages</td>\n",
       "      <td>0.01</td>\n",
       "      <td>...</td>\n",
       "      <td>afternoon</td>\n",
       "      <td>NaN</td>\n",
       "      <td>NaN</td>\n",
       "      <td>NaN</td>\n",
       "      <td>NaN</td>\n",
       "      <td>10/26/14</td>\n",
       "      <td>14:52:06</td>\n",
       "      <td>60</td>\n",
       "      <td>0</td>\n",
       "      <td>0</td>\n",
       "    </tr>\n",
       "    <tr>\n",
       "      <th>1</th>\n",
       "      <td>1377056</td>\n",
       "      <td>64452</td>\n",
       "      <td>104533</td>\n",
       "      <td>bicycle</td>\n",
       "      <td>Prince Street Pizza</td>\n",
       "      <td>Pizza</td>\n",
       "      <td>Neapolitan Rice Balls</td>\n",
       "      <td>3.0</td>\n",
       "      <td>Munchables</td>\n",
       "      <td>0.02</td>\n",
       "      <td>...</td>\n",
       "      <td>evening</td>\n",
       "      <td>10/16/14</td>\n",
       "      <td>10:26:02 PM</td>\n",
       "      <td>10/16/14</td>\n",
       "      <td>10:48:23 PM</td>\n",
       "      <td>10/16/14</td>\n",
       "      <td>22:59:23</td>\n",
       "      <td>60</td>\n",
       "      <td>22</td>\n",
       "      <td>11</td>\n",
       "    </tr>\n",
       "  </tbody>\n",
       "</table>\n",
       "<p>2 rows × 27 columns</p>\n",
       "</div>"
      ],
      "text/plain": [
       "   delivery_id  customer_id  jumpman_id vehicle_type         pickup_place  \\\n",
       "0      1457973       327168      162381          van            Melt Shop   \n",
       "1      1377056        64452      104533      bicycle  Prince Street Pizza   \n",
       "\n",
       "  place_category              item_name  item_quantity item_category_name  \\\n",
       "0       American               Lemonade            1.0          Beverages   \n",
       "1          Pizza  Neapolitan Rice Balls            3.0         Munchables   \n",
       "\n",
       "   how_long_it_took_to_order          ...            Time_of_day  \\\n",
       "0                       0.01          ...              afternoon   \n",
       "1                       0.02          ...                evening   \n",
       "\n",
       "   date_the_Jumpman_arrived_at_pickup  time_the_Jumpman_arrived_at_pickup  \\\n",
       "0                                 NaN                                 NaN   \n",
       "1                            10/16/14                         10:26:02 PM   \n",
       "\n",
       "   date_the_Jumpman_left_pickup time_the_Jumpman_left_pickup  \\\n",
       "0                           NaN                          NaN   \n",
       "1                      10/16/14                  10:48:23 PM   \n",
       "\n",
       "  date_the_Jumpman_arrived_at_dropoff time_the_Jumpman_arrived_at_dropoff  \\\n",
       "0                            10/26/14                            14:52:06   \n",
       "1                            10/16/14                            22:59:23   \n",
       "\n",
       "  Minutes_from_start_to_deliver Minutes_in_pickup Minutes_pickup_dropoff  \n",
       "0                            60                 0                      0  \n",
       "1                            60                22                     11  \n",
       "\n",
       "[2 rows x 27 columns]"
      ]
     },
     "execution_count": 4,
     "metadata": {},
     "output_type": "execute_result"
    }
   ],
   "source": [
    "Jumpman23.head(2)"
   ]
  },
  {
   "cell_type": "markdown",
   "metadata": {},
   "source": [
    "Before importing data into python, I already have done some feature engineering in Excel. Below are my engineered features:\n",
    "* Date: categorical variable, date of the order.\n",
    "* Day_of_week: categorical variable, order's day of week.\n",
    "* Time_of_day: categorical variable, time of the day when the delivery stared. \n",
    "    * Midnight: 12:00 am - 6:00 am; \n",
    "    * Morning: 6:00 am - 12:00 pm; \n",
    "    * Afternoon: 12:00 pm - 6:00 pm; \n",
    "    * Evening: 6:00 pm - 12:00 am.\n",
    "* Minutes_from_ start_ to_deliver: continuous variable, minutes difference between time_the_Jumpman_arrived_at_dropoff and time_the_delivery_started.\n",
    "* Minutes_in_pickup: continuous variable, minutes difference between time_the_Jumpman_left_pickup and time_the_Jumpman_arrived_at_pickup.\n",
    "* Minutes_pickup_dropoff: continuous variable, minutes difference between time_the_Jumpman_arrived_at_dropoff and time_the_Jumpman_left_pickup"
   ]
  },
  {
   "cell_type": "markdown",
   "metadata": {},
   "source": [
    "## Check Data Integrity"
   ]
  },
  {
   "cell_type": "code",
   "execution_count": 5,
   "metadata": {
    "scrolled": false
   },
   "outputs": [
    {
     "data": {
      "text/plain": [
       "delivery_id                               0\n",
       "customer_id                               0\n",
       "jumpman_id                                0\n",
       "vehicle_type                              0\n",
       "pickup_place                              0\n",
       "place_category                          883\n",
       "item_name                              1230\n",
       "item_quantity                          1230\n",
       "item_category_name                     1230\n",
       "how_long_it_took_to_order              2945\n",
       "pickup_lat                                0\n",
       "pickup_lon                                0\n",
       "dropoff_lat                               0\n",
       "dropoff_lon                               0\n",
       "Date                                      0\n",
       "Day_of_week                               0\n",
       "Time_the_delivery_started                 0\n",
       "Time_of_day                               0\n",
       "date_the_Jumpman_arrived_at_pickup      550\n",
       "time_the_Jumpman_arrived_at_pickup      550\n",
       "date_the_Jumpman_left_pickup            550\n",
       "time_the_Jumpman_left_pickup            550\n",
       "date_the_Jumpman_arrived_at_dropoff       0\n",
       "time_the_Jumpman_arrived_at_dropoff       0\n",
       "Minutes_from_start_to_deliver             0\n",
       "Minutes_in_pickup                         0\n",
       "Minutes_pickup_dropoff                    0\n",
       "dtype: int64"
      ]
     },
     "execution_count": 5,
     "metadata": {},
     "output_type": "execute_result"
    }
   ],
   "source": [
    "Jumpman23.isnull().sum()"
   ]
  },
  {
   "cell_type": "markdown",
   "metadata": {},
   "source": [
    "#### Delivery_id is the primary key in this data set. There is no NA value in this column."
   ]
  },
  {
   "cell_type": "code",
   "execution_count": 6,
   "metadata": {
    "collapsed": true,
    "scrolled": true
   },
   "outputs": [],
   "source": [
    "id_count = pd.DataFrame({'count':Jumpman23.groupby('delivery_id')['delivery_id'].count()}).reset_index()\n",
    "dup_id = id_count[id_count['count']>1].delivery_id"
   ]
  },
  {
   "cell_type": "code",
   "execution_count": 7,
   "metadata": {
    "collapsed": true
   },
   "outputs": [],
   "source": [
    "dup_dat =Jumpman23[Jumpman23['delivery_id'].isin(dup_id)]"
   ]
  },
  {
   "cell_type": "code",
   "execution_count": 8,
   "metadata": {
    "collapsed": true
   },
   "outputs": [],
   "source": [
    "dup_dat=dup_dat.sort_values('delivery_id')"
   ]
  },
  {
   "cell_type": "code",
   "execution_count": 9,
   "metadata": {},
   "outputs": [
    {
     "data": {
      "text/plain": [
       "((1425, 27), 656)"
      ]
     },
     "execution_count": 9,
     "metadata": {},
     "output_type": "execute_result"
    }
   ],
   "source": [
    "dup_dat.shape, len(set(dup_dat.delivery_id))"
   ]
  },
  {
   "cell_type": "markdown",
   "metadata": {},
   "source": [
    "#### There are 656 duplicated delivery_ids in the dataset. 1425 rows are involved in dupliation issues.This is a data integrity issue.  Let me look deeper into the duplicates to see the reason."
   ]
  },
  {
   "cell_type": "code",
   "execution_count": 10,
   "metadata": {
    "scrolled": true
   },
   "outputs": [
    {
     "data": {
      "text/html": [
       "<div>\n",
       "<style>\n",
       "    .dataframe thead tr:only-child th {\n",
       "        text-align: right;\n",
       "    }\n",
       "\n",
       "    .dataframe thead th {\n",
       "        text-align: left;\n",
       "    }\n",
       "\n",
       "    .dataframe tbody tr th {\n",
       "        vertical-align: top;\n",
       "    }\n",
       "</style>\n",
       "<table border=\"1\" class=\"dataframe\">\n",
       "  <thead>\n",
       "    <tr style=\"text-align: right;\">\n",
       "      <th></th>\n",
       "      <th>delivery_id</th>\n",
       "      <th>customer_id</th>\n",
       "      <th>jumpman_id</th>\n",
       "      <th>vehicle_type</th>\n",
       "      <th>pickup_place</th>\n",
       "      <th>place_category</th>\n",
       "      <th>item_name</th>\n",
       "      <th>item_quantity</th>\n",
       "      <th>item_category_name</th>\n",
       "      <th>how_long_it_took_to_order</th>\n",
       "      <th>...</th>\n",
       "      <th>Time_of_day</th>\n",
       "      <th>date_the_Jumpman_arrived_at_pickup</th>\n",
       "      <th>time_the_Jumpman_arrived_at_pickup</th>\n",
       "      <th>date_the_Jumpman_left_pickup</th>\n",
       "      <th>time_the_Jumpman_left_pickup</th>\n",
       "      <th>date_the_Jumpman_arrived_at_dropoff</th>\n",
       "      <th>time_the_Jumpman_arrived_at_dropoff</th>\n",
       "      <th>Minutes_from_start_to_deliver</th>\n",
       "      <th>Minutes_in_pickup</th>\n",
       "      <th>Minutes_pickup_dropoff</th>\n",
       "    </tr>\n",
       "  </thead>\n",
       "  <tbody>\n",
       "    <tr>\n",
       "      <th>1008</th>\n",
       "      <td>1272701</td>\n",
       "      <td>81085</td>\n",
       "      <td>112646</td>\n",
       "      <td>bicycle</td>\n",
       "      <td>Mighty Quinn's BBQ</td>\n",
       "      <td>BBQ</td>\n",
       "      <td>Brisket</td>\n",
       "      <td>1.0</td>\n",
       "      <td>Meats</td>\n",
       "      <td>NaN</td>\n",
       "      <td>...</td>\n",
       "      <td>afternoon</td>\n",
       "      <td>10/1/14</td>\n",
       "      <td>12:17:23 PM</td>\n",
       "      <td>10/1/14</td>\n",
       "      <td>12:27:42 PM</td>\n",
       "      <td>10/1/14</td>\n",
       "      <td>12:34:27</td>\n",
       "      <td>22</td>\n",
       "      <td>10</td>\n",
       "      <td>6</td>\n",
       "    </tr>\n",
       "    <tr>\n",
       "      <th>5080</th>\n",
       "      <td>1272701</td>\n",
       "      <td>81085</td>\n",
       "      <td>112646</td>\n",
       "      <td>bicycle</td>\n",
       "      <td>Mighty Quinn's BBQ</td>\n",
       "      <td>BBQ</td>\n",
       "      <td>Housemade Iced Tea</td>\n",
       "      <td>1.0</td>\n",
       "      <td>Beverages</td>\n",
       "      <td>NaN</td>\n",
       "      <td>...</td>\n",
       "      <td>afternoon</td>\n",
       "      <td>10/1/14</td>\n",
       "      <td>12:17:23 PM</td>\n",
       "      <td>10/1/14</td>\n",
       "      <td>12:27:42 PM</td>\n",
       "      <td>10/1/14</td>\n",
       "      <td>12:34:27</td>\n",
       "      <td>22</td>\n",
       "      <td>10</td>\n",
       "      <td>6</td>\n",
       "    </tr>\n",
       "    <tr>\n",
       "      <th>2299</th>\n",
       "      <td>1274248</td>\n",
       "      <td>208020</td>\n",
       "      <td>60149</td>\n",
       "      <td>car</td>\n",
       "      <td>Murray's Falafel</td>\n",
       "      <td>Middle Eastern</td>\n",
       "      <td>Moroccan Cigars (5 pc)</td>\n",
       "      <td>1.0</td>\n",
       "      <td>Appetizers</td>\n",
       "      <td>0.00</td>\n",
       "      <td>...</td>\n",
       "      <td>afternoon</td>\n",
       "      <td>10/1/14</td>\n",
       "      <td>5:40:33 PM</td>\n",
       "      <td>10/1/14</td>\n",
       "      <td>5:53:54 PM</td>\n",
       "      <td>10/1/14</td>\n",
       "      <td>18:09:37</td>\n",
       "      <td>43</td>\n",
       "      <td>13</td>\n",
       "      <td>15</td>\n",
       "    </tr>\n",
       "    <tr>\n",
       "      <th>2272</th>\n",
       "      <td>1274248</td>\n",
       "      <td>208020</td>\n",
       "      <td>60149</td>\n",
       "      <td>car</td>\n",
       "      <td>Murray's Falafel</td>\n",
       "      <td>Middle Eastern</td>\n",
       "      <td>Blue Lamoon Citrus blossom lemonade w/ Splenda</td>\n",
       "      <td>1.0</td>\n",
       "      <td>Beverages</td>\n",
       "      <td>0.00</td>\n",
       "      <td>...</td>\n",
       "      <td>afternoon</td>\n",
       "      <td>10/1/14</td>\n",
       "      <td>5:40:33 PM</td>\n",
       "      <td>10/1/14</td>\n",
       "      <td>5:53:54 PM</td>\n",
       "      <td>10/1/14</td>\n",
       "      <td>18:09:37</td>\n",
       "      <td>43</td>\n",
       "      <td>13</td>\n",
       "      <td>15</td>\n",
       "    </tr>\n",
       "    <tr>\n",
       "      <th>2986</th>\n",
       "      <td>1274248</td>\n",
       "      <td>208020</td>\n",
       "      <td>60149</td>\n",
       "      <td>car</td>\n",
       "      <td>Murray's Falafel</td>\n",
       "      <td>Middle Eastern</td>\n",
       "      <td>Watermelon</td>\n",
       "      <td>1.0</td>\n",
       "      <td>Desserts</td>\n",
       "      <td>0.00</td>\n",
       "      <td>...</td>\n",
       "      <td>afternoon</td>\n",
       "      <td>10/1/14</td>\n",
       "      <td>5:40:33 PM</td>\n",
       "      <td>10/1/14</td>\n",
       "      <td>5:53:54 PM</td>\n",
       "      <td>10/1/14</td>\n",
       "      <td>18:09:37</td>\n",
       "      <td>43</td>\n",
       "      <td>13</td>\n",
       "      <td>15</td>\n",
       "    </tr>\n",
       "    <tr>\n",
       "      <th>5386</th>\n",
       "      <td>1274328</td>\n",
       "      <td>255435</td>\n",
       "      <td>23359</td>\n",
       "      <td>bicycle</td>\n",
       "      <td>Lure Fishbar</td>\n",
       "      <td>Seafood</td>\n",
       "      <td>King Salmon</td>\n",
       "      <td>3.0</td>\n",
       "      <td>Sushi &amp; Sashimi</td>\n",
       "      <td>0.01</td>\n",
       "      <td>...</td>\n",
       "      <td>afternoon</td>\n",
       "      <td>10/1/14</td>\n",
       "      <td>5:44:49 PM</td>\n",
       "      <td>10/1/14</td>\n",
       "      <td>6:21:09 PM</td>\n",
       "      <td>10/1/14</td>\n",
       "      <td>18:41:16</td>\n",
       "      <td>53</td>\n",
       "      <td>36</td>\n",
       "      <td>20</td>\n",
       "    </tr>\n",
       "    <tr>\n",
       "      <th>1588</th>\n",
       "      <td>1274328</td>\n",
       "      <td>255435</td>\n",
       "      <td>23359</td>\n",
       "      <td>bicycle</td>\n",
       "      <td>Lure Fishbar</td>\n",
       "      <td>Seafood</td>\n",
       "      <td>Big Eye Tuna</td>\n",
       "      <td>6.0</td>\n",
       "      <td>Sushi &amp; Sashimi</td>\n",
       "      <td>0.01</td>\n",
       "      <td>...</td>\n",
       "      <td>afternoon</td>\n",
       "      <td>10/1/14</td>\n",
       "      <td>5:44:49 PM</td>\n",
       "      <td>10/1/14</td>\n",
       "      <td>6:21:09 PM</td>\n",
       "      <td>10/1/14</td>\n",
       "      <td>18:41:16</td>\n",
       "      <td>53</td>\n",
       "      <td>36</td>\n",
       "      <td>20</td>\n",
       "    </tr>\n",
       "    <tr>\n",
       "      <th>931</th>\n",
       "      <td>1274372</td>\n",
       "      <td>82041</td>\n",
       "      <td>133293</td>\n",
       "      <td>bicycle</td>\n",
       "      <td>Parm</td>\n",
       "      <td>Italian</td>\n",
       "      <td>Meatball Parm</td>\n",
       "      <td>1.0</td>\n",
       "      <td>Sandwiches</td>\n",
       "      <td>0.00</td>\n",
       "      <td>...</td>\n",
       "      <td>afternoon</td>\n",
       "      <td>10/1/14</td>\n",
       "      <td>5:57:34 PM</td>\n",
       "      <td>10/1/14</td>\n",
       "      <td>6:09:54 PM</td>\n",
       "      <td>10/1/14</td>\n",
       "      <td>18:20:06</td>\n",
       "      <td>22</td>\n",
       "      <td>12</td>\n",
       "      <td>10</td>\n",
       "    </tr>\n",
       "    <tr>\n",
       "      <th>4578</th>\n",
       "      <td>1274372</td>\n",
       "      <td>82041</td>\n",
       "      <td>133293</td>\n",
       "      <td>bicycle</td>\n",
       "      <td>Parm</td>\n",
       "      <td>Italian</td>\n",
       "      <td>Chicken Parm</td>\n",
       "      <td>1.0</td>\n",
       "      <td>Sandwiches</td>\n",
       "      <td>0.00</td>\n",
       "      <td>...</td>\n",
       "      <td>afternoon</td>\n",
       "      <td>10/1/14</td>\n",
       "      <td>5:57:34 PM</td>\n",
       "      <td>10/1/14</td>\n",
       "      <td>6:09:54 PM</td>\n",
       "      <td>10/1/14</td>\n",
       "      <td>18:20:06</td>\n",
       "      <td>22</td>\n",
       "      <td>12</td>\n",
       "      <td>10</td>\n",
       "    </tr>\n",
       "    <tr>\n",
       "      <th>2720</th>\n",
       "      <td>1274483</td>\n",
       "      <td>143721</td>\n",
       "      <td>119839</td>\n",
       "      <td>bicycle</td>\n",
       "      <td>Hummus Place</td>\n",
       "      <td>Middle Eastern</td>\n",
       "      <td>Hummus Mushrooms</td>\n",
       "      <td>1.0</td>\n",
       "      <td>Main</td>\n",
       "      <td>0.00</td>\n",
       "      <td>...</td>\n",
       "      <td>evening</td>\n",
       "      <td>10/1/14</td>\n",
       "      <td>6:24:23 PM</td>\n",
       "      <td>10/1/14</td>\n",
       "      <td>6:35:42 PM</td>\n",
       "      <td>10/1/14</td>\n",
       "      <td>18:46:42</td>\n",
       "      <td>24</td>\n",
       "      <td>11</td>\n",
       "      <td>11</td>\n",
       "    </tr>\n",
       "    <tr>\n",
       "      <th>4919</th>\n",
       "      <td>1274483</td>\n",
       "      <td>143721</td>\n",
       "      <td>119839</td>\n",
       "      <td>bicycle</td>\n",
       "      <td>Hummus Place</td>\n",
       "      <td>Middle Eastern</td>\n",
       "      <td>Health Salad</td>\n",
       "      <td>1.0</td>\n",
       "      <td>Soup &amp; Salad</td>\n",
       "      <td>0.00</td>\n",
       "      <td>...</td>\n",
       "      <td>evening</td>\n",
       "      <td>10/1/14</td>\n",
       "      <td>6:24:23 PM</td>\n",
       "      <td>10/1/14</td>\n",
       "      <td>6:35:42 PM</td>\n",
       "      <td>10/1/14</td>\n",
       "      <td>18:46:42</td>\n",
       "      <td>24</td>\n",
       "      <td>11</td>\n",
       "      <td>11</td>\n",
       "    </tr>\n",
       "    <tr>\n",
       "      <th>622</th>\n",
       "      <td>1274594</td>\n",
       "      <td>183520</td>\n",
       "      <td>112257</td>\n",
       "      <td>bicycle</td>\n",
       "      <td>Blue Ribbon Sushi</td>\n",
       "      <td>Japanese</td>\n",
       "      <td>California</td>\n",
       "      <td>1.0</td>\n",
       "      <td>Maki (Special Rolls)</td>\n",
       "      <td>0.00</td>\n",
       "      <td>...</td>\n",
       "      <td>evening</td>\n",
       "      <td>NaN</td>\n",
       "      <td>NaN</td>\n",
       "      <td>NaN</td>\n",
       "      <td>NaN</td>\n",
       "      <td>10/1/14</td>\n",
       "      <td>19:13:05</td>\n",
       "      <td>34</td>\n",
       "      <td>0</td>\n",
       "      <td>0</td>\n",
       "    </tr>\n",
       "    <tr>\n",
       "      <th>3781</th>\n",
       "      <td>1274594</td>\n",
       "      <td>183520</td>\n",
       "      <td>112257</td>\n",
       "      <td>bicycle</td>\n",
       "      <td>Blue Ribbon Sushi</td>\n",
       "      <td>Japanese</td>\n",
       "      <td>Sashimi Deluxe</td>\n",
       "      <td>1.0</td>\n",
       "      <td>Platters</td>\n",
       "      <td>0.00</td>\n",
       "      <td>...</td>\n",
       "      <td>evening</td>\n",
       "      <td>NaN</td>\n",
       "      <td>NaN</td>\n",
       "      <td>NaN</td>\n",
       "      <td>NaN</td>\n",
       "      <td>10/1/14</td>\n",
       "      <td>19:13:05</td>\n",
       "      <td>34</td>\n",
       "      <td>0</td>\n",
       "      <td>0</td>\n",
       "    </tr>\n",
       "    <tr>\n",
       "      <th>2664</th>\n",
       "      <td>1274659</td>\n",
       "      <td>117810</td>\n",
       "      <td>31859</td>\n",
       "      <td>bicycle</td>\n",
       "      <td>Momoya</td>\n",
       "      <td>Sushi</td>\n",
       "      <td>Crispy Rice</td>\n",
       "      <td>2.0</td>\n",
       "      <td>Signature Roll</td>\n",
       "      <td>0.00</td>\n",
       "      <td>...</td>\n",
       "      <td>evening</td>\n",
       "      <td>10/1/14</td>\n",
       "      <td>7:14:44 PM</td>\n",
       "      <td>10/1/14</td>\n",
       "      <td>7:21:21 PM</td>\n",
       "      <td>10/1/14</td>\n",
       "      <td>19:38:10</td>\n",
       "      <td>48</td>\n",
       "      <td>6</td>\n",
       "      <td>16</td>\n",
       "    </tr>\n",
       "    <tr>\n",
       "      <th>1336</th>\n",
       "      <td>1274659</td>\n",
       "      <td>117810</td>\n",
       "      <td>31859</td>\n",
       "      <td>bicycle</td>\n",
       "      <td>Momoya</td>\n",
       "      <td>Sushi</td>\n",
       "      <td>Spicy Tuna</td>\n",
       "      <td>1.0</td>\n",
       "      <td>Roll</td>\n",
       "      <td>0.00</td>\n",
       "      <td>...</td>\n",
       "      <td>evening</td>\n",
       "      <td>10/1/14</td>\n",
       "      <td>7:14:44 PM</td>\n",
       "      <td>10/1/14</td>\n",
       "      <td>7:21:21 PM</td>\n",
       "      <td>10/1/14</td>\n",
       "      <td>19:38:10</td>\n",
       "      <td>48</td>\n",
       "      <td>6</td>\n",
       "      <td>16</td>\n",
       "    </tr>\n",
       "    <tr>\n",
       "      <th>3239</th>\n",
       "      <td>1274691</td>\n",
       "      <td>286386</td>\n",
       "      <td>144719</td>\n",
       "      <td>bicycle</td>\n",
       "      <td>5 Napkin Burger</td>\n",
       "      <td>Burger</td>\n",
       "      <td>Cheddar Tots</td>\n",
       "      <td>1.0</td>\n",
       "      <td>Sides</td>\n",
       "      <td>0.00</td>\n",
       "      <td>...</td>\n",
       "      <td>evening</td>\n",
       "      <td>10/1/14</td>\n",
       "      <td>7:27:31 PM</td>\n",
       "      <td>10/1/14</td>\n",
       "      <td>7:37:21 PM</td>\n",
       "      <td>10/1/14</td>\n",
       "      <td>19:44:54</td>\n",
       "      <td>50</td>\n",
       "      <td>9</td>\n",
       "      <td>7</td>\n",
       "    </tr>\n",
       "    <tr>\n",
       "      <th>1356</th>\n",
       "      <td>1274691</td>\n",
       "      <td>286386</td>\n",
       "      <td>144719</td>\n",
       "      <td>bicycle</td>\n",
       "      <td>5 Napkin Burger</td>\n",
       "      <td>Burger</td>\n",
       "      <td>Classic Cheese</td>\n",
       "      <td>1.0</td>\n",
       "      <td>Burgers</td>\n",
       "      <td>0.00</td>\n",
       "      <td>...</td>\n",
       "      <td>evening</td>\n",
       "      <td>10/1/14</td>\n",
       "      <td>7:27:31 PM</td>\n",
       "      <td>10/1/14</td>\n",
       "      <td>7:37:21 PM</td>\n",
       "      <td>10/1/14</td>\n",
       "      <td>19:44:54</td>\n",
       "      <td>50</td>\n",
       "      <td>9</td>\n",
       "      <td>7</td>\n",
       "    </tr>\n",
       "    <tr>\n",
       "      <th>2302</th>\n",
       "      <td>1274791</td>\n",
       "      <td>59749</td>\n",
       "      <td>61162</td>\n",
       "      <td>bicycle</td>\n",
       "      <td>Bareburger</td>\n",
       "      <td>Burger</td>\n",
       "      <td>Barest Burger</td>\n",
       "      <td>1.0</td>\n",
       "      <td>Bareburgers</td>\n",
       "      <td>0.00</td>\n",
       "      <td>...</td>\n",
       "      <td>evening</td>\n",
       "      <td>10/1/14</td>\n",
       "      <td>7:31:56 PM</td>\n",
       "      <td>10/1/14</td>\n",
       "      <td>7:37:43 PM</td>\n",
       "      <td>10/1/14</td>\n",
       "      <td>19:51:34</td>\n",
       "      <td>44</td>\n",
       "      <td>5</td>\n",
       "      <td>13</td>\n",
       "    </tr>\n",
       "    <tr>\n",
       "      <th>1967</th>\n",
       "      <td>1274791</td>\n",
       "      <td>59749</td>\n",
       "      <td>61162</td>\n",
       "      <td>bicycle</td>\n",
       "      <td>Bareburger</td>\n",
       "      <td>Burger</td>\n",
       "      <td>Barest Burger</td>\n",
       "      <td>1.0</td>\n",
       "      <td>Bareburgers</td>\n",
       "      <td>0.00</td>\n",
       "      <td>...</td>\n",
       "      <td>evening</td>\n",
       "      <td>10/1/14</td>\n",
       "      <td>7:31:56 PM</td>\n",
       "      <td>10/1/14</td>\n",
       "      <td>7:37:43 PM</td>\n",
       "      <td>10/1/14</td>\n",
       "      <td>19:51:34</td>\n",
       "      <td>44</td>\n",
       "      <td>5</td>\n",
       "      <td>13</td>\n",
       "    </tr>\n",
       "    <tr>\n",
       "      <th>5107</th>\n",
       "      <td>1274920</td>\n",
       "      <td>353898</td>\n",
       "      <td>118095</td>\n",
       "      <td>bicycle</td>\n",
       "      <td>Whole Foods Market</td>\n",
       "      <td>Grocery Store</td>\n",
       "      <td>Pinot Noir California</td>\n",
       "      <td>1.0</td>\n",
       "      <td>Wine</td>\n",
       "      <td>NaN</td>\n",
       "      <td>...</td>\n",
       "      <td>evening</td>\n",
       "      <td>10/1/14</td>\n",
       "      <td>8:11:52 PM</td>\n",
       "      <td>10/1/14</td>\n",
       "      <td>9:05:16 PM</td>\n",
       "      <td>10/1/14</td>\n",
       "      <td>21:14:20</td>\n",
       "      <td>109</td>\n",
       "      <td>53</td>\n",
       "      <td>9</td>\n",
       "    </tr>\n",
       "  </tbody>\n",
       "</table>\n",
       "<p>20 rows × 27 columns</p>\n",
       "</div>"
      ],
      "text/plain": [
       "      delivery_id  customer_id  jumpman_id vehicle_type        pickup_place  \\\n",
       "1008      1272701        81085      112646      bicycle  Mighty Quinn's BBQ   \n",
       "5080      1272701        81085      112646      bicycle  Mighty Quinn's BBQ   \n",
       "2299      1274248       208020       60149          car    Murray's Falafel   \n",
       "2272      1274248       208020       60149          car    Murray's Falafel   \n",
       "2986      1274248       208020       60149          car    Murray's Falafel   \n",
       "5386      1274328       255435       23359      bicycle        Lure Fishbar   \n",
       "1588      1274328       255435       23359      bicycle        Lure Fishbar   \n",
       "931       1274372        82041      133293      bicycle                Parm   \n",
       "4578      1274372        82041      133293      bicycle                Parm   \n",
       "2720      1274483       143721      119839      bicycle        Hummus Place   \n",
       "4919      1274483       143721      119839      bicycle        Hummus Place   \n",
       "622       1274594       183520      112257      bicycle   Blue Ribbon Sushi   \n",
       "3781      1274594       183520      112257      bicycle   Blue Ribbon Sushi   \n",
       "2664      1274659       117810       31859      bicycle              Momoya   \n",
       "1336      1274659       117810       31859      bicycle              Momoya   \n",
       "3239      1274691       286386      144719      bicycle     5 Napkin Burger   \n",
       "1356      1274691       286386      144719      bicycle     5 Napkin Burger   \n",
       "2302      1274791        59749       61162      bicycle          Bareburger   \n",
       "1967      1274791        59749       61162      bicycle          Bareburger   \n",
       "5107      1274920       353898      118095      bicycle  Whole Foods Market   \n",
       "\n",
       "      place_category                                       item_name  \\\n",
       "1008             BBQ                                         Brisket   \n",
       "5080             BBQ                              Housemade Iced Tea   \n",
       "2299  Middle Eastern                          Moroccan Cigars (5 pc)   \n",
       "2272  Middle Eastern  Blue Lamoon Citrus blossom lemonade w/ Splenda   \n",
       "2986  Middle Eastern                                      Watermelon   \n",
       "5386         Seafood                                     King Salmon   \n",
       "1588         Seafood                                    Big Eye Tuna   \n",
       "931          Italian                                   Meatball Parm   \n",
       "4578         Italian                                    Chicken Parm   \n",
       "2720  Middle Eastern                                Hummus Mushrooms   \n",
       "4919  Middle Eastern                                    Health Salad   \n",
       "622         Japanese                                      California   \n",
       "3781        Japanese                                  Sashimi Deluxe   \n",
       "2664           Sushi                                     Crispy Rice   \n",
       "1336           Sushi                                      Spicy Tuna   \n",
       "3239          Burger                                    Cheddar Tots   \n",
       "1356          Burger                                  Classic Cheese   \n",
       "2302          Burger                                   Barest Burger   \n",
       "1967          Burger                                   Barest Burger   \n",
       "5107   Grocery Store                           Pinot Noir California   \n",
       "\n",
       "      item_quantity    item_category_name  how_long_it_took_to_order  \\\n",
       "1008            1.0                 Meats                        NaN   \n",
       "5080            1.0             Beverages                        NaN   \n",
       "2299            1.0            Appetizers                       0.00   \n",
       "2272            1.0             Beverages                       0.00   \n",
       "2986            1.0              Desserts                       0.00   \n",
       "5386            3.0       Sushi & Sashimi                       0.01   \n",
       "1588            6.0       Sushi & Sashimi                       0.01   \n",
       "931             1.0            Sandwiches                       0.00   \n",
       "4578            1.0            Sandwiches                       0.00   \n",
       "2720            1.0                  Main                       0.00   \n",
       "4919            1.0          Soup & Salad                       0.00   \n",
       "622             1.0  Maki (Special Rolls)                       0.00   \n",
       "3781            1.0              Platters                       0.00   \n",
       "2664            2.0        Signature Roll                       0.00   \n",
       "1336            1.0                  Roll                       0.00   \n",
       "3239            1.0                 Sides                       0.00   \n",
       "1356            1.0               Burgers                       0.00   \n",
       "2302            1.0           Bareburgers                       0.00   \n",
       "1967            1.0           Bareburgers                       0.00   \n",
       "5107            1.0                  Wine                        NaN   \n",
       "\n",
       "              ...            Time_of_day  date_the_Jumpman_arrived_at_pickup  \\\n",
       "1008          ...              afternoon                             10/1/14   \n",
       "5080          ...              afternoon                             10/1/14   \n",
       "2299          ...              afternoon                             10/1/14   \n",
       "2272          ...              afternoon                             10/1/14   \n",
       "2986          ...              afternoon                             10/1/14   \n",
       "5386          ...              afternoon                             10/1/14   \n",
       "1588          ...              afternoon                             10/1/14   \n",
       "931           ...              afternoon                             10/1/14   \n",
       "4578          ...              afternoon                             10/1/14   \n",
       "2720          ...                evening                             10/1/14   \n",
       "4919          ...                evening                             10/1/14   \n",
       "622           ...                evening                                 NaN   \n",
       "3781          ...                evening                                 NaN   \n",
       "2664          ...                evening                             10/1/14   \n",
       "1336          ...                evening                             10/1/14   \n",
       "3239          ...                evening                             10/1/14   \n",
       "1356          ...                evening                             10/1/14   \n",
       "2302          ...                evening                             10/1/14   \n",
       "1967          ...                evening                             10/1/14   \n",
       "5107          ...                evening                             10/1/14   \n",
       "\n",
       "      time_the_Jumpman_arrived_at_pickup  date_the_Jumpman_left_pickup  \\\n",
       "1008                         12:17:23 PM                       10/1/14   \n",
       "5080                         12:17:23 PM                       10/1/14   \n",
       "2299                          5:40:33 PM                       10/1/14   \n",
       "2272                          5:40:33 PM                       10/1/14   \n",
       "2986                          5:40:33 PM                       10/1/14   \n",
       "5386                          5:44:49 PM                       10/1/14   \n",
       "1588                          5:44:49 PM                       10/1/14   \n",
       "931                           5:57:34 PM                       10/1/14   \n",
       "4578                          5:57:34 PM                       10/1/14   \n",
       "2720                          6:24:23 PM                       10/1/14   \n",
       "4919                          6:24:23 PM                       10/1/14   \n",
       "622                                  NaN                           NaN   \n",
       "3781                                 NaN                           NaN   \n",
       "2664                          7:14:44 PM                       10/1/14   \n",
       "1336                          7:14:44 PM                       10/1/14   \n",
       "3239                          7:27:31 PM                       10/1/14   \n",
       "1356                          7:27:31 PM                       10/1/14   \n",
       "2302                          7:31:56 PM                       10/1/14   \n",
       "1967                          7:31:56 PM                       10/1/14   \n",
       "5107                          8:11:52 PM                       10/1/14   \n",
       "\n",
       "     time_the_Jumpman_left_pickup date_the_Jumpman_arrived_at_dropoff  \\\n",
       "1008                  12:27:42 PM                             10/1/14   \n",
       "5080                  12:27:42 PM                             10/1/14   \n",
       "2299                   5:53:54 PM                             10/1/14   \n",
       "2272                   5:53:54 PM                             10/1/14   \n",
       "2986                   5:53:54 PM                             10/1/14   \n",
       "5386                   6:21:09 PM                             10/1/14   \n",
       "1588                   6:21:09 PM                             10/1/14   \n",
       "931                    6:09:54 PM                             10/1/14   \n",
       "4578                   6:09:54 PM                             10/1/14   \n",
       "2720                   6:35:42 PM                             10/1/14   \n",
       "4919                   6:35:42 PM                             10/1/14   \n",
       "622                           NaN                             10/1/14   \n",
       "3781                          NaN                             10/1/14   \n",
       "2664                   7:21:21 PM                             10/1/14   \n",
       "1336                   7:21:21 PM                             10/1/14   \n",
       "3239                   7:37:21 PM                             10/1/14   \n",
       "1356                   7:37:21 PM                             10/1/14   \n",
       "2302                   7:37:43 PM                             10/1/14   \n",
       "1967                   7:37:43 PM                             10/1/14   \n",
       "5107                   9:05:16 PM                             10/1/14   \n",
       "\n",
       "     time_the_Jumpman_arrived_at_dropoff Minutes_from_start_to_deliver  \\\n",
       "1008                            12:34:27                            22   \n",
       "5080                            12:34:27                            22   \n",
       "2299                            18:09:37                            43   \n",
       "2272                            18:09:37                            43   \n",
       "2986                            18:09:37                            43   \n",
       "5386                            18:41:16                            53   \n",
       "1588                            18:41:16                            53   \n",
       "931                             18:20:06                            22   \n",
       "4578                            18:20:06                            22   \n",
       "2720                            18:46:42                            24   \n",
       "4919                            18:46:42                            24   \n",
       "622                             19:13:05                            34   \n",
       "3781                            19:13:05                            34   \n",
       "2664                            19:38:10                            48   \n",
       "1336                            19:38:10                            48   \n",
       "3239                            19:44:54                            50   \n",
       "1356                            19:44:54                            50   \n",
       "2302                            19:51:34                            44   \n",
       "1967                            19:51:34                            44   \n",
       "5107                            21:14:20                           109   \n",
       "\n",
       "     Minutes_in_pickup Minutes_pickup_dropoff  \n",
       "1008                10                      6  \n",
       "5080                10                      6  \n",
       "2299                13                     15  \n",
       "2272                13                     15  \n",
       "2986                13                     15  \n",
       "5386                36                     20  \n",
       "1588                36                     20  \n",
       "931                 12                     10  \n",
       "4578                12                     10  \n",
       "2720                11                     11  \n",
       "4919                11                     11  \n",
       "622                  0                      0  \n",
       "3781                 0                      0  \n",
       "2664                 6                     16  \n",
       "1336                 6                     16  \n",
       "3239                 9                      7  \n",
       "1356                 9                      7  \n",
       "2302                 5                     13  \n",
       "1967                 5                     13  \n",
       "5107                53                      9  \n",
       "\n",
       "[20 rows x 27 columns]"
      ]
     },
     "execution_count": 10,
     "metadata": {},
     "output_type": "execute_result"
    }
   ],
   "source": [
    "dup_dat.head(20)"
   ]
  },
  {
   "cell_type": "markdown",
   "metadata": {},
   "source": [
    "One situation for duplicates is that every columns are the same. The other situation for duplicates is that there are multiple items are included in the order. Each item has its own item_name and item_name_category. But they have same delivery_id. \n",
    "Therefore, I decide to remove column item_name, item_quantity and item_name_category from the Jumpman dataset."
   ]
  },
  {
   "cell_type": "code",
   "execution_count": 11,
   "metadata": {
    "collapsed": true
   },
   "outputs": [],
   "source": [
    "Jumpman = Jumpman23.drop(['item_name','item_quantity','item_category_name'],axis=1)"
   ]
  },
  {
   "cell_type": "code",
   "execution_count": 12,
   "metadata": {},
   "outputs": [
    {
     "data": {
      "text/html": [
       "<div>\n",
       "<style>\n",
       "    .dataframe thead tr:only-child th {\n",
       "        text-align: right;\n",
       "    }\n",
       "\n",
       "    .dataframe thead th {\n",
       "        text-align: left;\n",
       "    }\n",
       "\n",
       "    .dataframe tbody tr th {\n",
       "        vertical-align: top;\n",
       "    }\n",
       "</style>\n",
       "<table border=\"1\" class=\"dataframe\">\n",
       "  <thead>\n",
       "    <tr style=\"text-align: right;\">\n",
       "      <th></th>\n",
       "      <th>delivery_id</th>\n",
       "      <th>customer_id</th>\n",
       "      <th>jumpman_id</th>\n",
       "      <th>vehicle_type</th>\n",
       "      <th>pickup_place</th>\n",
       "      <th>place_category</th>\n",
       "      <th>how_long_it_took_to_order</th>\n",
       "      <th>pickup_lat</th>\n",
       "      <th>pickup_lon</th>\n",
       "      <th>dropoff_lat</th>\n",
       "      <th>...</th>\n",
       "      <th>Time_of_day</th>\n",
       "      <th>date_the_Jumpman_arrived_at_pickup</th>\n",
       "      <th>time_the_Jumpman_arrived_at_pickup</th>\n",
       "      <th>date_the_Jumpman_left_pickup</th>\n",
       "      <th>time_the_Jumpman_left_pickup</th>\n",
       "      <th>date_the_Jumpman_arrived_at_dropoff</th>\n",
       "      <th>time_the_Jumpman_arrived_at_dropoff</th>\n",
       "      <th>Minutes_from_start_to_deliver</th>\n",
       "      <th>Minutes_in_pickup</th>\n",
       "      <th>Minutes_pickup_dropoff</th>\n",
       "    </tr>\n",
       "  </thead>\n",
       "  <tbody>\n",
       "    <tr>\n",
       "      <th>0</th>\n",
       "      <td>1457973</td>\n",
       "      <td>327168</td>\n",
       "      <td>162381</td>\n",
       "      <td>van</td>\n",
       "      <td>Melt Shop</td>\n",
       "      <td>American</td>\n",
       "      <td>0.01</td>\n",
       "      <td>40.744607</td>\n",
       "      <td>-73.990742</td>\n",
       "      <td>40.752073</td>\n",
       "      <td>...</td>\n",
       "      <td>afternoon</td>\n",
       "      <td>NaN</td>\n",
       "      <td>NaN</td>\n",
       "      <td>NaN</td>\n",
       "      <td>NaN</td>\n",
       "      <td>10/26/14</td>\n",
       "      <td>14:52:06</td>\n",
       "      <td>60</td>\n",
       "      <td>0</td>\n",
       "      <td>0</td>\n",
       "    </tr>\n",
       "    <tr>\n",
       "      <th>1</th>\n",
       "      <td>1377056</td>\n",
       "      <td>64452</td>\n",
       "      <td>104533</td>\n",
       "      <td>bicycle</td>\n",
       "      <td>Prince Street Pizza</td>\n",
       "      <td>Pizza</td>\n",
       "      <td>0.02</td>\n",
       "      <td>40.723080</td>\n",
       "      <td>-73.994615</td>\n",
       "      <td>40.719722</td>\n",
       "      <td>...</td>\n",
       "      <td>evening</td>\n",
       "      <td>10/16/14</td>\n",
       "      <td>10:26:02 PM</td>\n",
       "      <td>10/16/14</td>\n",
       "      <td>10:48:23 PM</td>\n",
       "      <td>10/16/14</td>\n",
       "      <td>22:59:23</td>\n",
       "      <td>60</td>\n",
       "      <td>22</td>\n",
       "      <td>11</td>\n",
       "    </tr>\n",
       "    <tr>\n",
       "      <th>2</th>\n",
       "      <td>1476547</td>\n",
       "      <td>83095</td>\n",
       "      <td>132725</td>\n",
       "      <td>bicycle</td>\n",
       "      <td>Bareburger</td>\n",
       "      <td>Burger</td>\n",
       "      <td>0.00</td>\n",
       "      <td>40.728478</td>\n",
       "      <td>-73.998392</td>\n",
       "      <td>40.728606</td>\n",
       "      <td>...</td>\n",
       "      <td>evening</td>\n",
       "      <td>10/28/14</td>\n",
       "      <td>9:37:19 PM</td>\n",
       "      <td>10/28/14</td>\n",
       "      <td>9:59:10 PM</td>\n",
       "      <td>10/28/14</td>\n",
       "      <td>22:04:41</td>\n",
       "      <td>24</td>\n",
       "      <td>21</td>\n",
       "      <td>5</td>\n",
       "    </tr>\n",
       "    <tr>\n",
       "      <th>3</th>\n",
       "      <td>1485494</td>\n",
       "      <td>271149</td>\n",
       "      <td>157175</td>\n",
       "      <td>bicycle</td>\n",
       "      <td>Juice Press</td>\n",
       "      <td>Juice Bar</td>\n",
       "      <td>NaN</td>\n",
       "      <td>40.738868</td>\n",
       "      <td>-74.002747</td>\n",
       "      <td>40.751257</td>\n",
       "      <td>...</td>\n",
       "      <td>morning</td>\n",
       "      <td>10/30/14</td>\n",
       "      <td>11:04:18 AM</td>\n",
       "      <td>10/30/14</td>\n",
       "      <td>11:16:38 AM</td>\n",
       "      <td>10/30/14</td>\n",
       "      <td>11:32:38</td>\n",
       "      <td>38</td>\n",
       "      <td>12</td>\n",
       "      <td>16</td>\n",
       "    </tr>\n",
       "    <tr>\n",
       "      <th>4</th>\n",
       "      <td>1327707</td>\n",
       "      <td>122609</td>\n",
       "      <td>118095</td>\n",
       "      <td>bicycle</td>\n",
       "      <td>Blue Ribbon Sushi</td>\n",
       "      <td>Japanese</td>\n",
       "      <td>0.00</td>\n",
       "      <td>40.726110</td>\n",
       "      <td>-74.002492</td>\n",
       "      <td>40.709323</td>\n",
       "      <td>...</td>\n",
       "      <td>midnight</td>\n",
       "      <td>10/10/14</td>\n",
       "      <td>12:14:43 AM</td>\n",
       "      <td>10/10/14</td>\n",
       "      <td>12:25:19 AM</td>\n",
       "      <td>10/10/14</td>\n",
       "      <td>0:48:27</td>\n",
       "      <td>41</td>\n",
       "      <td>10</td>\n",
       "      <td>23</td>\n",
       "    </tr>\n",
       "  </tbody>\n",
       "</table>\n",
       "<p>5 rows × 24 columns</p>\n",
       "</div>"
      ],
      "text/plain": [
       "   delivery_id  customer_id  jumpman_id vehicle_type         pickup_place  \\\n",
       "0      1457973       327168      162381          van            Melt Shop   \n",
       "1      1377056        64452      104533      bicycle  Prince Street Pizza   \n",
       "2      1476547        83095      132725      bicycle           Bareburger   \n",
       "3      1485494       271149      157175      bicycle          Juice Press   \n",
       "4      1327707       122609      118095      bicycle    Blue Ribbon Sushi   \n",
       "\n",
       "  place_category  how_long_it_took_to_order  pickup_lat  pickup_lon  \\\n",
       "0       American                       0.01   40.744607  -73.990742   \n",
       "1          Pizza                       0.02   40.723080  -73.994615   \n",
       "2         Burger                       0.00   40.728478  -73.998392   \n",
       "3      Juice Bar                        NaN   40.738868  -74.002747   \n",
       "4       Japanese                       0.00   40.726110  -74.002492   \n",
       "\n",
       "   dropoff_lat          ...            Time_of_day  \\\n",
       "0    40.752073          ...              afternoon   \n",
       "1    40.719722          ...                evening   \n",
       "2    40.728606          ...                evening   \n",
       "3    40.751257          ...                morning   \n",
       "4    40.709323          ...               midnight   \n",
       "\n",
       "  date_the_Jumpman_arrived_at_pickup time_the_Jumpman_arrived_at_pickup  \\\n",
       "0                                NaN                                NaN   \n",
       "1                           10/16/14                        10:26:02 PM   \n",
       "2                           10/28/14                         9:37:19 PM   \n",
       "3                           10/30/14                        11:04:18 AM   \n",
       "4                           10/10/14                        12:14:43 AM   \n",
       "\n",
       "  date_the_Jumpman_left_pickup time_the_Jumpman_left_pickup  \\\n",
       "0                          NaN                          NaN   \n",
       "1                     10/16/14                  10:48:23 PM   \n",
       "2                     10/28/14                   9:59:10 PM   \n",
       "3                     10/30/14                  11:16:38 AM   \n",
       "4                     10/10/14                  12:25:19 AM   \n",
       "\n",
       "  date_the_Jumpman_arrived_at_dropoff time_the_Jumpman_arrived_at_dropoff  \\\n",
       "0                            10/26/14                            14:52:06   \n",
       "1                            10/16/14                            22:59:23   \n",
       "2                            10/28/14                            22:04:41   \n",
       "3                            10/30/14                            11:32:38   \n",
       "4                            10/10/14                             0:48:27   \n",
       "\n",
       "  Minutes_from_start_to_deliver Minutes_in_pickup Minutes_pickup_dropoff  \n",
       "0                            60                 0                      0  \n",
       "1                            60                22                     11  \n",
       "2                            24                21                      5  \n",
       "3                            38                12                     16  \n",
       "4                            41                10                     23  \n",
       "\n",
       "[5 rows x 24 columns]"
      ]
     },
     "execution_count": 12,
     "metadata": {},
     "output_type": "execute_result"
    }
   ],
   "source": [
    "Jumpman.head(5)"
   ]
  },
  {
   "cell_type": "code",
   "execution_count": 13,
   "metadata": {
    "scrolled": true
   },
   "outputs": [
    {
     "data": {
      "text/plain": [
       "(5983, 24)"
      ]
     },
     "execution_count": 13,
     "metadata": {},
     "output_type": "execute_result"
    }
   ],
   "source": [
    "Jumpman.shape"
   ]
  },
  {
   "cell_type": "code",
   "execution_count": 14,
   "metadata": {
    "collapsed": true
   },
   "outputs": [],
   "source": [
    "Jumpman = Jumpman.drop_duplicates(['delivery_id','customer_id','jumpman_id'],keep='first').reset_index()"
   ]
  },
  {
   "cell_type": "code",
   "execution_count": 15,
   "metadata": {},
   "outputs": [
    {
     "data": {
      "text/plain": [
       "(5214, 25)"
      ]
     },
     "execution_count": 15,
     "metadata": {},
     "output_type": "execute_result"
    }
   ],
   "source": [
    "Jumpman.shape # 5214 observations left after remove duplicates"
   ]
  },
  {
   "cell_type": "code",
   "execution_count": 16,
   "metadata": {},
   "outputs": [
    {
     "data": {
      "text/plain": [
       "0"
      ]
     },
     "execution_count": 16,
     "metadata": {},
     "output_type": "execute_result"
    }
   ],
   "source": [
    "# check if there is any duplicates left again\n",
    "id_count1 = pd.DataFrame({'count':Jumpman.groupby('delivery_id')['delivery_id'].count()}).reset_index()\n",
    "dup_id1 = id_count1[id_count1['count']>1].delivery_id\n",
    "len(dup_id1)"
   ]
  },
  {
   "cell_type": "markdown",
   "metadata": {
    "collapsed": true
   },
   "source": [
    "### Feature Engineering: Zipcode"
   ]
  },
  {
   "cell_type": "code",
   "execution_count": 17,
   "metadata": {
    "scrolled": true
   },
   "outputs": [
    {
     "data": {
      "text/html": [
       "<div>\n",
       "<style>\n",
       "    .dataframe thead tr:only-child th {\n",
       "        text-align: right;\n",
       "    }\n",
       "\n",
       "    .dataframe thead th {\n",
       "        text-align: left;\n",
       "    }\n",
       "\n",
       "    .dataframe tbody tr th {\n",
       "        vertical-align: top;\n",
       "    }\n",
       "</style>\n",
       "<table border=\"1\" class=\"dataframe\">\n",
       "  <thead>\n",
       "    <tr style=\"text-align: right;\">\n",
       "      <th></th>\n",
       "      <th>index</th>\n",
       "      <th>delivery_id</th>\n",
       "      <th>customer_id</th>\n",
       "      <th>jumpman_id</th>\n",
       "      <th>vehicle_type</th>\n",
       "      <th>pickup_place</th>\n",
       "      <th>place_category</th>\n",
       "      <th>how_long_it_took_to_order</th>\n",
       "      <th>pickup_lat</th>\n",
       "      <th>pickup_lon</th>\n",
       "      <th>...</th>\n",
       "      <th>Time_of_day</th>\n",
       "      <th>date_the_Jumpman_arrived_at_pickup</th>\n",
       "      <th>time_the_Jumpman_arrived_at_pickup</th>\n",
       "      <th>date_the_Jumpman_left_pickup</th>\n",
       "      <th>time_the_Jumpman_left_pickup</th>\n",
       "      <th>date_the_Jumpman_arrived_at_dropoff</th>\n",
       "      <th>time_the_Jumpman_arrived_at_dropoff</th>\n",
       "      <th>Minutes_from_start_to_deliver</th>\n",
       "      <th>Minutes_in_pickup</th>\n",
       "      <th>Minutes_pickup_dropoff</th>\n",
       "    </tr>\n",
       "  </thead>\n",
       "  <tbody>\n",
       "    <tr>\n",
       "      <th>0</th>\n",
       "      <td>0</td>\n",
       "      <td>1457973</td>\n",
       "      <td>327168</td>\n",
       "      <td>162381</td>\n",
       "      <td>van</td>\n",
       "      <td>Melt Shop</td>\n",
       "      <td>American</td>\n",
       "      <td>0.01</td>\n",
       "      <td>40.744607</td>\n",
       "      <td>-73.990742</td>\n",
       "      <td>...</td>\n",
       "      <td>afternoon</td>\n",
       "      <td>NaN</td>\n",
       "      <td>NaN</td>\n",
       "      <td>NaN</td>\n",
       "      <td>NaN</td>\n",
       "      <td>10/26/14</td>\n",
       "      <td>14:52:06</td>\n",
       "      <td>60</td>\n",
       "      <td>0</td>\n",
       "      <td>0</td>\n",
       "    </tr>\n",
       "    <tr>\n",
       "      <th>1</th>\n",
       "      <td>1</td>\n",
       "      <td>1377056</td>\n",
       "      <td>64452</td>\n",
       "      <td>104533</td>\n",
       "      <td>bicycle</td>\n",
       "      <td>Prince Street Pizza</td>\n",
       "      <td>Pizza</td>\n",
       "      <td>0.02</td>\n",
       "      <td>40.723080</td>\n",
       "      <td>-73.994615</td>\n",
       "      <td>...</td>\n",
       "      <td>evening</td>\n",
       "      <td>10/16/14</td>\n",
       "      <td>10:26:02 PM</td>\n",
       "      <td>10/16/14</td>\n",
       "      <td>10:48:23 PM</td>\n",
       "      <td>10/16/14</td>\n",
       "      <td>22:59:23</td>\n",
       "      <td>60</td>\n",
       "      <td>22</td>\n",
       "      <td>11</td>\n",
       "    </tr>\n",
       "    <tr>\n",
       "      <th>2</th>\n",
       "      <td>2</td>\n",
       "      <td>1476547</td>\n",
       "      <td>83095</td>\n",
       "      <td>132725</td>\n",
       "      <td>bicycle</td>\n",
       "      <td>Bareburger</td>\n",
       "      <td>Burger</td>\n",
       "      <td>0.00</td>\n",
       "      <td>40.728478</td>\n",
       "      <td>-73.998392</td>\n",
       "      <td>...</td>\n",
       "      <td>evening</td>\n",
       "      <td>10/28/14</td>\n",
       "      <td>9:37:19 PM</td>\n",
       "      <td>10/28/14</td>\n",
       "      <td>9:59:10 PM</td>\n",
       "      <td>10/28/14</td>\n",
       "      <td>22:04:41</td>\n",
       "      <td>24</td>\n",
       "      <td>21</td>\n",
       "      <td>5</td>\n",
       "    </tr>\n",
       "    <tr>\n",
       "      <th>3</th>\n",
       "      <td>3</td>\n",
       "      <td>1485494</td>\n",
       "      <td>271149</td>\n",
       "      <td>157175</td>\n",
       "      <td>bicycle</td>\n",
       "      <td>Juice Press</td>\n",
       "      <td>Juice Bar</td>\n",
       "      <td>NaN</td>\n",
       "      <td>40.738868</td>\n",
       "      <td>-74.002747</td>\n",
       "      <td>...</td>\n",
       "      <td>morning</td>\n",
       "      <td>10/30/14</td>\n",
       "      <td>11:04:18 AM</td>\n",
       "      <td>10/30/14</td>\n",
       "      <td>11:16:38 AM</td>\n",
       "      <td>10/30/14</td>\n",
       "      <td>11:32:38</td>\n",
       "      <td>38</td>\n",
       "      <td>12</td>\n",
       "      <td>16</td>\n",
       "    </tr>\n",
       "    <tr>\n",
       "      <th>4</th>\n",
       "      <td>4</td>\n",
       "      <td>1327707</td>\n",
       "      <td>122609</td>\n",
       "      <td>118095</td>\n",
       "      <td>bicycle</td>\n",
       "      <td>Blue Ribbon Sushi</td>\n",
       "      <td>Japanese</td>\n",
       "      <td>0.00</td>\n",
       "      <td>40.726110</td>\n",
       "      <td>-74.002492</td>\n",
       "      <td>...</td>\n",
       "      <td>midnight</td>\n",
       "      <td>10/10/14</td>\n",
       "      <td>12:14:43 AM</td>\n",
       "      <td>10/10/14</td>\n",
       "      <td>12:25:19 AM</td>\n",
       "      <td>10/10/14</td>\n",
       "      <td>0:48:27</td>\n",
       "      <td>41</td>\n",
       "      <td>10</td>\n",
       "      <td>23</td>\n",
       "    </tr>\n",
       "  </tbody>\n",
       "</table>\n",
       "<p>5 rows × 25 columns</p>\n",
       "</div>"
      ],
      "text/plain": [
       "   index  delivery_id  customer_id  jumpman_id vehicle_type  \\\n",
       "0      0      1457973       327168      162381          van   \n",
       "1      1      1377056        64452      104533      bicycle   \n",
       "2      2      1476547        83095      132725      bicycle   \n",
       "3      3      1485494       271149      157175      bicycle   \n",
       "4      4      1327707       122609      118095      bicycle   \n",
       "\n",
       "          pickup_place place_category  how_long_it_took_to_order  pickup_lat  \\\n",
       "0            Melt Shop       American                       0.01   40.744607   \n",
       "1  Prince Street Pizza          Pizza                       0.02   40.723080   \n",
       "2           Bareburger         Burger                       0.00   40.728478   \n",
       "3          Juice Press      Juice Bar                        NaN   40.738868   \n",
       "4    Blue Ribbon Sushi       Japanese                       0.00   40.726110   \n",
       "\n",
       "   pickup_lon          ...            Time_of_day  \\\n",
       "0  -73.990742          ...              afternoon   \n",
       "1  -73.994615          ...                evening   \n",
       "2  -73.998392          ...                evening   \n",
       "3  -74.002747          ...                morning   \n",
       "4  -74.002492          ...               midnight   \n",
       "\n",
       "   date_the_Jumpman_arrived_at_pickup time_the_Jumpman_arrived_at_pickup  \\\n",
       "0                                 NaN                                NaN   \n",
       "1                            10/16/14                        10:26:02 PM   \n",
       "2                            10/28/14                         9:37:19 PM   \n",
       "3                            10/30/14                        11:04:18 AM   \n",
       "4                            10/10/14                        12:14:43 AM   \n",
       "\n",
       "  date_the_Jumpman_left_pickup time_the_Jumpman_left_pickup  \\\n",
       "0                          NaN                          NaN   \n",
       "1                     10/16/14                  10:48:23 PM   \n",
       "2                     10/28/14                   9:59:10 PM   \n",
       "3                     10/30/14                  11:16:38 AM   \n",
       "4                     10/10/14                  12:25:19 AM   \n",
       "\n",
       "  date_the_Jumpman_arrived_at_dropoff time_the_Jumpman_arrived_at_dropoff  \\\n",
       "0                            10/26/14                            14:52:06   \n",
       "1                            10/16/14                            22:59:23   \n",
       "2                            10/28/14                            22:04:41   \n",
       "3                            10/30/14                            11:32:38   \n",
       "4                            10/10/14                             0:48:27   \n",
       "\n",
       "  Minutes_from_start_to_deliver Minutes_in_pickup Minutes_pickup_dropoff  \n",
       "0                            60                 0                      0  \n",
       "1                            60                22                     11  \n",
       "2                            24                21                      5  \n",
       "3                            38                12                     16  \n",
       "4                            41                10                     23  \n",
       "\n",
       "[5 rows x 25 columns]"
      ]
     },
     "execution_count": 17,
     "metadata": {},
     "output_type": "execute_result"
    }
   ],
   "source": [
    "Jumpman.head(5)"
   ]
  },
  {
   "cell_type": "markdown",
   "metadata": {},
   "source": [
    "#### Use geocoder package with Google geocoding API to get zipcode of pickup and dropoff place. There are 2500 limits every day. So I will just comment these lines."
   ]
  },
  {
   "cell_type": "code",
   "execution_count": 18,
   "metadata": {
    "scrolled": true
   },
   "outputs": [
    {
     "data": {
      "text/plain": [
       "\"\\npickup_zip = np.empty((len(Jumpman.delivery_id),))\\nfor i in xrange(2527,2540):\\n    geo = geocoder.google([Jumpman['pickup_lat'].iloc[i],Jumpman['pickup_lon'].iloc[i]],method='reverse')\\n    pickup_zip[i] = geo.postal   \\n    print Jumpman['pickup_lat'].iloc[i],Jumpman['pickup_lon'].iloc[i], pickup_zip[i]\\n    \""
      ]
     },
     "execution_count": 18,
     "metadata": {},
     "output_type": "execute_result"
    }
   ],
   "source": [
    "\"\"\"\n",
    "pickup_zip = np.empty((len(Jumpman.delivery_id),))\n",
    "for i in xrange(2527,2540):\n",
    "    geo = geocoder.google([Jumpman['pickup_lat'].iloc[i],Jumpman['pickup_lon'].iloc[i]],method='reverse')\n",
    "    pickup_zip[i] = geo.postal   \n",
    "    print Jumpman['pickup_lat'].iloc[i],Jumpman['pickup_lon'].iloc[i], pickup_zip[i]\n",
    "    \"\"\""
   ]
  },
  {
   "cell_type": "code",
   "execution_count": 19,
   "metadata": {
    "collapsed": true
   },
   "outputs": [],
   "source": [
    "# Jumpman.pickup_zip[:10]"
   ]
  },
  {
   "cell_type": "code",
   "execution_count": 20,
   "metadata": {
    "scrolled": false
   },
   "outputs": [
    {
     "data": {
      "text/plain": [
       "\"\\ndropoff_zip = np.empty((len(Jumpman.delivery_id),))\\nfor i in xrange(len(Jumpman.delivery_id)):\\n    geo = geocoder.google([Jumpman['dropoff_lat'].iloc[i],Jumpman['dropoff_lon'].iloc[i]],method='reverse')\\n    dropoff_zip[i] = geo.postal \\n    print Jumpman['dropoff_lat'].iloc[i],Jumpman['dropoff_lon'].iloc[i], dropoff_zip[i]\\n    \""
      ]
     },
     "execution_count": 20,
     "metadata": {},
     "output_type": "execute_result"
    }
   ],
   "source": [
    "\"\"\"\n",
    "dropoff_zip = np.empty((len(Jumpman.delivery_id),))\n",
    "for i in xrange(len(Jumpman.delivery_id)):\n",
    "    geo = geocoder.google([Jumpman['dropoff_lat'].iloc[i],Jumpman['dropoff_lon'].iloc[i]],method='reverse')\n",
    "    dropoff_zip[i] = geo.postal \n",
    "    print Jumpman['dropoff_lat'].iloc[i],Jumpman['dropoff_lon'].iloc[i], dropoff_zip[i]\n",
    "    \"\"\""
   ]
  },
  {
   "cell_type": "markdown",
   "metadata": {},
   "source": [
    "### Check NA again"
   ]
  },
  {
   "cell_type": "code",
   "execution_count": 21,
   "metadata": {},
   "outputs": [
    {
     "data": {
      "text/plain": [
       "index                                     0\n",
       "delivery_id                               0\n",
       "customer_id                               0\n",
       "jumpman_id                                0\n",
       "vehicle_type                              0\n",
       "pickup_place                              0\n",
       "place_category                          841\n",
       "how_long_it_took_to_order              2635\n",
       "pickup_lat                                0\n",
       "pickup_lon                                0\n",
       "dropoff_lat                               0\n",
       "dropoff_lon                               0\n",
       "Date                                      0\n",
       "Day_of_week                               0\n",
       "Time_the_delivery_started                 0\n",
       "Time_of_day                               0\n",
       "date_the_Jumpman_arrived_at_pickup      495\n",
       "time_the_Jumpman_arrived_at_pickup      495\n",
       "date_the_Jumpman_left_pickup            495\n",
       "time_the_Jumpman_left_pickup            495\n",
       "date_the_Jumpman_arrived_at_dropoff       0\n",
       "time_the_Jumpman_arrived_at_dropoff       0\n",
       "Minutes_from_start_to_deliver             0\n",
       "Minutes_in_pickup                         0\n",
       "Minutes_pickup_dropoff                    0\n",
       "dtype: int64"
      ]
     },
     "execution_count": 21,
     "metadata": {},
     "output_type": "execute_result"
    }
   ],
   "source": [
    "Jumpman.isnull().sum()"
   ]
  },
  {
   "cell_type": "markdown",
   "metadata": {},
   "source": [
    "## Define Churn User"
   ]
  },
  {
   "cell_type": "code",
   "execution_count": 22,
   "metadata": {
    "collapsed": true
   },
   "outputs": [],
   "source": [
    "Jumpman['Date']=pd.to_datetime(Jumpman['Date'])"
   ]
  },
  {
   "cell_type": "code",
   "execution_count": 23,
   "metadata": {},
   "outputs": [
    {
     "data": {
      "text/plain": [
       "3192"
      ]
     },
     "execution_count": 23,
     "metadata": {},
     "output_type": "execute_result"
    }
   ],
   "source": [
    "customer_list = list(set(Jumpman.customer_id))\n",
    "len(customer_list) # there are 3192 customers in total"
   ]
  },
  {
   "cell_type": "code",
   "execution_count": 24,
   "metadata": {
    "collapsed": true,
    "scrolled": true
   },
   "outputs": [],
   "source": [
    "customer_per_date = pd.DataFrame({'Num_customer': Jumpman.groupby('Date')['customer_id'].nunique()}).reset_index()"
   ]
  },
  {
   "cell_type": "code",
   "execution_count": 25,
   "metadata": {},
   "outputs": [
    {
     "data": {
      "text/html": [
       "<div>\n",
       "<style>\n",
       "    .dataframe thead tr:only-child th {\n",
       "        text-align: right;\n",
       "    }\n",
       "\n",
       "    .dataframe thead th {\n",
       "        text-align: left;\n",
       "    }\n",
       "\n",
       "    .dataframe tbody tr th {\n",
       "        vertical-align: top;\n",
       "    }\n",
       "</style>\n",
       "<table border=\"1\" class=\"dataframe\">\n",
       "  <thead>\n",
       "    <tr style=\"text-align: right;\">\n",
       "      <th></th>\n",
       "      <th>Date</th>\n",
       "      <th>Num_customer</th>\n",
       "    </tr>\n",
       "  </thead>\n",
       "  <tbody>\n",
       "    <tr>\n",
       "      <th>0</th>\n",
       "      <td>2014-10-01</td>\n",
       "      <td>157</td>\n",
       "    </tr>\n",
       "    <tr>\n",
       "      <th>1</th>\n",
       "      <td>2014-10-02</td>\n",
       "      <td>155</td>\n",
       "    </tr>\n",
       "  </tbody>\n",
       "</table>\n",
       "</div>"
      ],
      "text/plain": [
       "        Date  Num_customer\n",
       "0 2014-10-01           157\n",
       "1 2014-10-02           155"
      ]
     },
     "execution_count": 25,
     "metadata": {},
     "output_type": "execute_result"
    }
   ],
   "source": [
    "customer_per_date.head(2)"
   ]
  },
  {
   "cell_type": "code",
   "execution_count": 26,
   "metadata": {
    "collapsed": true
   },
   "outputs": [],
   "source": [
    "# add day_of_week column\n",
    "customer_per_date['day_of_week'] = customer_per_date['Date'].dt.weekday_name"
   ]
  },
  {
   "cell_type": "code",
   "execution_count": 27,
   "metadata": {},
   "outputs": [
    {
     "data": {
      "text/html": [
       "<div>\n",
       "<style>\n",
       "    .dataframe thead tr:only-child th {\n",
       "        text-align: right;\n",
       "    }\n",
       "\n",
       "    .dataframe thead th {\n",
       "        text-align: left;\n",
       "    }\n",
       "\n",
       "    .dataframe tbody tr th {\n",
       "        vertical-align: top;\n",
       "    }\n",
       "</style>\n",
       "<table border=\"1\" class=\"dataframe\">\n",
       "  <thead>\n",
       "    <tr style=\"text-align: right;\">\n",
       "      <th></th>\n",
       "      <th>Date</th>\n",
       "      <th>Num_customer</th>\n",
       "      <th>day_of_week</th>\n",
       "    </tr>\n",
       "  </thead>\n",
       "  <tbody>\n",
       "    <tr>\n",
       "      <th>0</th>\n",
       "      <td>2014-10-01</td>\n",
       "      <td>157</td>\n",
       "      <td>Wednesday</td>\n",
       "    </tr>\n",
       "    <tr>\n",
       "      <th>1</th>\n",
       "      <td>2014-10-02</td>\n",
       "      <td>155</td>\n",
       "      <td>Thursday</td>\n",
       "    </tr>\n",
       "  </tbody>\n",
       "</table>\n",
       "</div>"
      ],
      "text/plain": [
       "        Date  Num_customer day_of_week\n",
       "0 2014-10-01           157   Wednesday\n",
       "1 2014-10-02           155    Thursday"
      ]
     },
     "execution_count": 27,
     "metadata": {},
     "output_type": "execute_result"
    }
   ],
   "source": [
    "customer_per_date.head(2)"
   ]
  },
  {
   "cell_type": "code",
   "execution_count": 28,
   "metadata": {},
   "outputs": [
    {
     "data": {
      "text/plain": [
       "<seaborn.axisgrid.FacetGrid at 0x113b65810>"
      ]
     },
     "execution_count": 28,
     "metadata": {},
     "output_type": "execute_result"
    }
   ],
   "source": [
    "import seaborn as sns\n",
    "import matplotlib.pyplot as plt\n",
    "fig, ax = plt.subplots()\n",
    "fig.set_size_inches(20,8)\n",
    "sns.factorplot(x=\"Date\",y=\"Num_customer\",data=customer_per_date,ax=ax)\n"
   ]
  },
  {
   "cell_type": "markdown",
   "metadata": {},
   "source": [
    "According to the above plot, we can see daily customer numbers are not increasing smoothly. Let's take into deep look at customer retention problem. First, I need to define good user, who has more than 1 time order in the first two weeks."
   ]
  },
  {
   "cell_type": "code",
   "execution_count": 29,
   "metadata": {
    "collapsed": true
   },
   "outputs": [],
   "source": [
    "customer_per_date.to_csv('customer_per_date.csv',index=False,encoding='utf-8')"
   ]
  },
  {
   "cell_type": "code",
   "execution_count": 30,
   "metadata": {
    "collapsed": true,
    "scrolled": true
   },
   "outputs": [],
   "source": [
    "# First, I need to find number of orders for each customer\n",
    "orders_per_cus = pd.DataFrame({'num_orders_1':Jumpman[Jumpman.Date< '10/16/14'].groupby('customer_id')['delivery_id'].size(),\n",
    "'num_orders_2': Jumpman[Jumpman.Date > '10/15/14'].groupby('customer_id')['delivery_id'].size()}).reset_index()"
   ]
  },
  {
   "cell_type": "code",
   "execution_count": 31,
   "metadata": {
    "scrolled": true
   },
   "outputs": [
    {
     "data": {
      "text/html": [
       "<div>\n",
       "<style>\n",
       "    .dataframe thead tr:only-child th {\n",
       "        text-align: right;\n",
       "    }\n",
       "\n",
       "    .dataframe thead th {\n",
       "        text-align: left;\n",
       "    }\n",
       "\n",
       "    .dataframe tbody tr th {\n",
       "        vertical-align: top;\n",
       "    }\n",
       "</style>\n",
       "<table border=\"1\" class=\"dataframe\">\n",
       "  <thead>\n",
       "    <tr style=\"text-align: right;\">\n",
       "      <th></th>\n",
       "      <th>customer_id</th>\n",
       "      <th>num_orders_1</th>\n",
       "      <th>num_orders_2</th>\n",
       "    </tr>\n",
       "  </thead>\n",
       "  <tbody>\n",
       "    <tr>\n",
       "      <th>0</th>\n",
       "      <td>242</td>\n",
       "      <td>1.0</td>\n",
       "      <td>NaN</td>\n",
       "    </tr>\n",
       "    <tr>\n",
       "      <th>1</th>\n",
       "      <td>641</td>\n",
       "      <td>NaN</td>\n",
       "      <td>1.0</td>\n",
       "    </tr>\n",
       "    <tr>\n",
       "      <th>2</th>\n",
       "      <td>1311</td>\n",
       "      <td>NaN</td>\n",
       "      <td>2.0</td>\n",
       "    </tr>\n",
       "    <tr>\n",
       "      <th>3</th>\n",
       "      <td>1517</td>\n",
       "      <td>1.0</td>\n",
       "      <td>NaN</td>\n",
       "    </tr>\n",
       "    <tr>\n",
       "      <th>4</th>\n",
       "      <td>2533</td>\n",
       "      <td>1.0</td>\n",
       "      <td>NaN</td>\n",
       "    </tr>\n",
       "    <tr>\n",
       "      <th>5</th>\n",
       "      <td>3253</td>\n",
       "      <td>1.0</td>\n",
       "      <td>NaN</td>\n",
       "    </tr>\n",
       "    <tr>\n",
       "      <th>6</th>\n",
       "      <td>4305</td>\n",
       "      <td>1.0</td>\n",
       "      <td>NaN</td>\n",
       "    </tr>\n",
       "    <tr>\n",
       "      <th>7</th>\n",
       "      <td>5056</td>\n",
       "      <td>1.0</td>\n",
       "      <td>NaN</td>\n",
       "    </tr>\n",
       "    <tr>\n",
       "      <th>8</th>\n",
       "      <td>5139</td>\n",
       "      <td>1.0</td>\n",
       "      <td>1.0</td>\n",
       "    </tr>\n",
       "    <tr>\n",
       "      <th>9</th>\n",
       "      <td>5444</td>\n",
       "      <td>1.0</td>\n",
       "      <td>NaN</td>\n",
       "    </tr>\n",
       "  </tbody>\n",
       "</table>\n",
       "</div>"
      ],
      "text/plain": [
       "   customer_id  num_orders_1  num_orders_2\n",
       "0          242           1.0           NaN\n",
       "1          641           NaN           1.0\n",
       "2         1311           NaN           2.0\n",
       "3         1517           1.0           NaN\n",
       "4         2533           1.0           NaN\n",
       "5         3253           1.0           NaN\n",
       "6         4305           1.0           NaN\n",
       "7         5056           1.0           NaN\n",
       "8         5139           1.0           1.0\n",
       "9         5444           1.0           NaN"
      ]
     },
     "execution_count": 31,
     "metadata": {},
     "output_type": "execute_result"
    }
   ],
   "source": [
    "orders_per_cus.head(10)"
   ]
  },
  {
   "cell_type": "code",
   "execution_count": 32,
   "metadata": {},
   "outputs": [
    {
     "data": {
      "text/plain": [
       "customer_id        0\n",
       "num_orders_1    1359\n",
       "num_orders_2    1237\n",
       "dtype: int64"
      ]
     },
     "execution_count": 32,
     "metadata": {},
     "output_type": "execute_result"
    }
   ],
   "source": [
    "orders_per_cus.isnull().sum()"
   ]
  },
  {
   "cell_type": "code",
   "execution_count": 33,
   "metadata": {},
   "outputs": [
    {
     "data": {
      "text/plain": [
       "(1359, 3)"
      ]
     },
     "execution_count": 33,
     "metadata": {},
     "output_type": "execute_result"
    }
   ],
   "source": [
    "orders_per_cus[orders_per_cus.num_orders_1.isnull()&orders_per_cus.num_orders_2.notnull()].shape\n",
    "# there are 1359 new customers in the 2nd period"
   ]
  },
  {
   "cell_type": "code",
   "execution_count": 34,
   "metadata": {},
   "outputs": [
    {
     "data": {
      "text/plain": [
       "1237"
      ]
     },
     "execution_count": 34,
     "metadata": {},
     "output_type": "execute_result"
    }
   ],
   "source": [
    "churn_customer = orders_per_cus['customer_id'].loc[orders_per_cus.num_orders_1.notnull()&orders_per_cus.num_orders_2.isnull()]\n",
    "len(churn_customer)\n",
    "# there are 1237 churn customers who had ordered only during 1st period"
   ]
  },
  {
   "cell_type": "code",
   "execution_count": 35,
   "metadata": {},
   "outputs": [
    {
     "data": {
      "text/plain": [
       "(1833, 3)"
      ]
     },
     "execution_count": 35,
     "metadata": {},
     "output_type": "execute_result"
    }
   ],
   "source": [
    "orders_per_cus[orders_per_cus.num_orders_1.notnull()].shape\n",
    "# there are 1833 customers during the 1st period"
   ]
  },
  {
   "cell_type": "code",
   "execution_count": 36,
   "metadata": {
    "collapsed": true
   },
   "outputs": [],
   "source": [
    "not_churn_customer = orders_per_cus['customer_id'].loc[orders_per_cus.num_orders_1.notnull()&orders_per_cus.num_orders_2.notnull()]"
   ]
  },
  {
   "cell_type": "code",
   "execution_count": 37,
   "metadata": {},
   "outputs": [
    {
     "data": {
      "text/plain": [
       "596"
      ]
     },
     "execution_count": 37,
     "metadata": {},
     "output_type": "execute_result"
    }
   ],
   "source": [
    "len(not_churn_customer)"
   ]
  },
  {
   "cell_type": "code",
   "execution_count": 38,
   "metadata": {
    "collapsed": true
   },
   "outputs": [],
   "source": [
    "customer_1st=churn_customer+not_churn_customer"
   ]
  },
  {
   "cell_type": "code",
   "execution_count": 39,
   "metadata": {
    "collapsed": true
   },
   "outputs": [],
   "source": [
    "retention_rate = len(not_churn_customer)*1.0/(len(customer_1st))"
   ]
  },
  {
   "cell_type": "code",
   "execution_count": 40,
   "metadata": {
    "scrolled": true
   },
   "outputs": [
    {
     "data": {
      "text/plain": [
       "0.3251500272776868"
      ]
     },
     "execution_count": 40,
     "metadata": {},
     "output_type": "execute_result"
    }
   ],
   "source": [
    "retention_rate"
   ]
  },
  {
   "cell_type": "markdown",
   "metadata": {},
   "source": [
    "#### The customer retention rate is 32.5%"
   ]
  },
  {
   "cell_type": "code",
   "execution_count": 41,
   "metadata": {},
   "outputs": [
    {
     "data": {
      "text/plain": [
       "pandas.core.series.Series"
      ]
     },
     "execution_count": 41,
     "metadata": {},
     "output_type": "execute_result"
    }
   ],
   "source": [
    "type(churn_customer)"
   ]
  },
  {
   "cell_type": "code",
   "execution_count": 42,
   "metadata": {},
   "outputs": [
    {
     "data": {
      "text/plain": [
       "pandas.core.series.Series"
      ]
     },
     "execution_count": 42,
     "metadata": {},
     "output_type": "execute_result"
    }
   ],
   "source": [
    "type(customer_1st)"
   ]
  },
  {
   "cell_type": "markdown",
   "metadata": {},
   "source": [
    "## Feature Engineering"
   ]
  },
  {
   "cell_type": "markdown",
   "metadata": {},
   "source": [
    "### 1. Binary variable 'churn' indicates whether customer churn or not: churn = 1"
   ]
  },
  {
   "cell_type": "code",
   "execution_count": 43,
   "metadata": {
    "collapsed": true
   },
   "outputs": [],
   "source": [
    "Jumpman_cus = Jumpman[Jumpman.customer_id.isin(churn_customer)|Jumpman.customer_id.isin(not_churn_customer)]"
   ]
  },
  {
   "cell_type": "code",
   "execution_count": 44,
   "metadata": {},
   "outputs": [
    {
     "data": {
      "text/plain": [
       "(3564, 25)"
      ]
     },
     "execution_count": 44,
     "metadata": {},
     "output_type": "execute_result"
    }
   ],
   "source": [
    "Jumpman_cus.shape"
   ]
  },
  {
   "cell_type": "code",
   "execution_count": 45,
   "metadata": {},
   "outputs": [
    {
     "name": "stderr",
     "output_type": "stream",
     "text": [
      "/anaconda/lib/python2.7/site-packages/ipykernel_launcher.py:1: SettingWithCopyWarning: \n",
      "A value is trying to be set on a copy of a slice from a DataFrame.\n",
      "Try using .loc[row_indexer,col_indexer] = value instead\n",
      "\n",
      "See the caveats in the documentation: http://pandas.pydata.org/pandas-docs/stable/indexing.html#indexing-view-versus-copy\n",
      "  \"\"\"Entry point for launching an IPython kernel.\n"
     ]
    }
   ],
   "source": [
    "Jumpman_cus['churn'] = Jumpman.customer_id.isin(churn_customer)*1"
   ]
  },
  {
   "cell_type": "code",
   "execution_count": 46,
   "metadata": {},
   "outputs": [
    {
     "data": {
      "text/plain": [
       "0    2098\n",
       "1    1466\n",
       "Name: churn, dtype: int64"
      ]
     },
     "execution_count": 46,
     "metadata": {},
     "output_type": "execute_result"
    }
   ],
   "source": [
    "Jumpman_cus.churn.value_counts()"
   ]
  },
  {
   "cell_type": "markdown",
   "metadata": {},
   "source": [
    "Customer churn rate is 67.5%, which is really big. I want to dig into orders' features such as item category, pick up place and time to get itmes to see if there is any important feature indicating customer churn.\n",
    "I would like to do feature engineering first."
   ]
  },
  {
   "cell_type": "code",
   "execution_count": 47,
   "metadata": {},
   "outputs": [
    {
     "data": {
      "text/plain": [
       "(3564, 26)"
      ]
     },
     "execution_count": 47,
     "metadata": {},
     "output_type": "execute_result"
    }
   ],
   "source": [
    "Jumpman_cus.shape"
   ]
  },
  {
   "cell_type": "code",
   "execution_count": 48,
   "metadata": {
    "collapsed": true
   },
   "outputs": [],
   "source": [
    "Jumpman_cus = Jumpman_cus.reset_index()"
   ]
  },
  {
   "cell_type": "code",
   "execution_count": 49,
   "metadata": {
    "scrolled": true
   },
   "outputs": [
    {
     "data": {
      "text/html": [
       "<div>\n",
       "<style>\n",
       "    .dataframe thead tr:only-child th {\n",
       "        text-align: right;\n",
       "    }\n",
       "\n",
       "    .dataframe thead th {\n",
       "        text-align: left;\n",
       "    }\n",
       "\n",
       "    .dataframe tbody tr th {\n",
       "        vertical-align: top;\n",
       "    }\n",
       "</style>\n",
       "<table border=\"1\" class=\"dataframe\">\n",
       "  <thead>\n",
       "    <tr style=\"text-align: right;\">\n",
       "      <th></th>\n",
       "      <th>level_0</th>\n",
       "      <th>index</th>\n",
       "      <th>delivery_id</th>\n",
       "      <th>customer_id</th>\n",
       "      <th>jumpman_id</th>\n",
       "      <th>vehicle_type</th>\n",
       "      <th>pickup_place</th>\n",
       "      <th>place_category</th>\n",
       "      <th>how_long_it_took_to_order</th>\n",
       "      <th>pickup_lat</th>\n",
       "      <th>...</th>\n",
       "      <th>date_the_Jumpman_arrived_at_pickup</th>\n",
       "      <th>time_the_Jumpman_arrived_at_pickup</th>\n",
       "      <th>date_the_Jumpman_left_pickup</th>\n",
       "      <th>time_the_Jumpman_left_pickup</th>\n",
       "      <th>date_the_Jumpman_arrived_at_dropoff</th>\n",
       "      <th>time_the_Jumpman_arrived_at_dropoff</th>\n",
       "      <th>Minutes_from_start_to_deliver</th>\n",
       "      <th>Minutes_in_pickup</th>\n",
       "      <th>Minutes_pickup_dropoff</th>\n",
       "      <th>churn</th>\n",
       "    </tr>\n",
       "  </thead>\n",
       "  <tbody>\n",
       "    <tr>\n",
       "      <th>0</th>\n",
       "      <td>2</td>\n",
       "      <td>2</td>\n",
       "      <td>1476547</td>\n",
       "      <td>83095</td>\n",
       "      <td>132725</td>\n",
       "      <td>bicycle</td>\n",
       "      <td>Bareburger</td>\n",
       "      <td>Burger</td>\n",
       "      <td>0.0</td>\n",
       "      <td>40.728478</td>\n",
       "      <td>...</td>\n",
       "      <td>10/28/14</td>\n",
       "      <td>9:37:19 PM</td>\n",
       "      <td>10/28/14</td>\n",
       "      <td>9:59:10 PM</td>\n",
       "      <td>10/28/14</td>\n",
       "      <td>22:04:41</td>\n",
       "      <td>24</td>\n",
       "      <td>21</td>\n",
       "      <td>5</td>\n",
       "      <td>0</td>\n",
       "    </tr>\n",
       "    <tr>\n",
       "      <th>1</th>\n",
       "      <td>4</td>\n",
       "      <td>4</td>\n",
       "      <td>1327707</td>\n",
       "      <td>122609</td>\n",
       "      <td>118095</td>\n",
       "      <td>bicycle</td>\n",
       "      <td>Blue Ribbon Sushi</td>\n",
       "      <td>Japanese</td>\n",
       "      <td>0.0</td>\n",
       "      <td>40.726110</td>\n",
       "      <td>...</td>\n",
       "      <td>10/10/14</td>\n",
       "      <td>12:14:43 AM</td>\n",
       "      <td>10/10/14</td>\n",
       "      <td>12:25:19 AM</td>\n",
       "      <td>10/10/14</td>\n",
       "      <td>0:48:27</td>\n",
       "      <td>41</td>\n",
       "      <td>10</td>\n",
       "      <td>23</td>\n",
       "      <td>0</td>\n",
       "    </tr>\n",
       "    <tr>\n",
       "      <th>2</th>\n",
       "      <td>6</td>\n",
       "      <td>6</td>\n",
       "      <td>1334106</td>\n",
       "      <td>101347</td>\n",
       "      <td>124897</td>\n",
       "      <td>bicycle</td>\n",
       "      <td>The Loop</td>\n",
       "      <td>Sushi</td>\n",
       "      <td>0.0</td>\n",
       "      <td>40.734858</td>\n",
       "      <td>...</td>\n",
       "      <td>10/10/14</td>\n",
       "      <td>9:07:16 PM</td>\n",
       "      <td>10/10/14</td>\n",
       "      <td>9:29:25 PM</td>\n",
       "      <td>10/10/14</td>\n",
       "      <td>21:40:02</td>\n",
       "      <td>31</td>\n",
       "      <td>22</td>\n",
       "      <td>10</td>\n",
       "      <td>1</td>\n",
       "    </tr>\n",
       "  </tbody>\n",
       "</table>\n",
       "<p>3 rows × 27 columns</p>\n",
       "</div>"
      ],
      "text/plain": [
       "   level_0  index  delivery_id  customer_id  jumpman_id vehicle_type  \\\n",
       "0        2      2      1476547        83095      132725      bicycle   \n",
       "1        4      4      1327707       122609      118095      bicycle   \n",
       "2        6      6      1334106       101347      124897      bicycle   \n",
       "\n",
       "        pickup_place place_category  how_long_it_took_to_order  pickup_lat  \\\n",
       "0         Bareburger         Burger                        0.0   40.728478   \n",
       "1  Blue Ribbon Sushi       Japanese                        0.0   40.726110   \n",
       "2           The Loop          Sushi                        0.0   40.734858   \n",
       "\n",
       "   ...   date_the_Jumpman_arrived_at_pickup  \\\n",
       "0  ...                             10/28/14   \n",
       "1  ...                             10/10/14   \n",
       "2  ...                             10/10/14   \n",
       "\n",
       "   time_the_Jumpman_arrived_at_pickup  date_the_Jumpman_left_pickup  \\\n",
       "0                          9:37:19 PM                      10/28/14   \n",
       "1                         12:14:43 AM                      10/10/14   \n",
       "2                          9:07:16 PM                      10/10/14   \n",
       "\n",
       "  time_the_Jumpman_left_pickup date_the_Jumpman_arrived_at_dropoff  \\\n",
       "0                   9:59:10 PM                            10/28/14   \n",
       "1                  12:25:19 AM                            10/10/14   \n",
       "2                   9:29:25 PM                            10/10/14   \n",
       "\n",
       "  time_the_Jumpman_arrived_at_dropoff Minutes_from_start_to_deliver  \\\n",
       "0                            22:04:41                            24   \n",
       "1                             0:48:27                            41   \n",
       "2                            21:40:02                            31   \n",
       "\n",
       "  Minutes_in_pickup Minutes_pickup_dropoff churn  \n",
       "0                21                      5     0  \n",
       "1                10                     23     0  \n",
       "2                22                     10     1  \n",
       "\n",
       "[3 rows x 27 columns]"
      ]
     },
     "execution_count": 49,
     "metadata": {},
     "output_type": "execute_result"
    }
   ],
   "source": [
    "Jumpman_cus.head(3)"
   ]
  },
  {
   "cell_type": "code",
   "execution_count": 50,
   "metadata": {
    "collapsed": true
   },
   "outputs": [],
   "source": [
    "Jumpman_cus = Jumpman_cus.drop('index',axis=1)"
   ]
  },
  {
   "cell_type": "markdown",
   "metadata": {},
   "source": [
    "### 2. Continuous variable 'dist' for the distance between pickup and dropoff location"
   ]
  },
  {
   "cell_type": "code",
   "execution_count": 51,
   "metadata": {
    "collapsed": true
   },
   "outputs": [],
   "source": [
    "# The distance between pickup location and drop off location\n",
    "from math import sin, cos, sqrt, atan2, radians\n",
    "dlon = Jumpman_cus.dropoff_lon - Jumpman_cus.pickup_lon\n",
    "dlat = Jumpman_cus.dropoff_lat - Jumpman_cus.pickup_lat\n",
    "a=np.empty((3564,))\n",
    "c=np.empty((3564,))\n",
    "for i in range(3564):\n",
    "    a[i] = sin(dlat[i] / 2)**2 + cos(Jumpman_cus.dropoff_lat[i]) * cos(Jumpman_cus.pickup_lat[i]) * sin(dlon[i] / 2)**2\n",
    "    c[i] = 2 * atan2(sqrt(a[i]), sqrt(1 - a[i]))\n",
    "    c[i]=c[i]*6373 # convert to km\n"
   ]
  },
  {
   "cell_type": "code",
   "execution_count": 52,
   "metadata": {
    "collapsed": true
   },
   "outputs": [],
   "source": [
    "Jumpman_cus['dist']=c"
   ]
  },
  {
   "cell_type": "code",
   "execution_count": 53,
   "metadata": {
    "scrolled": true
   },
   "outputs": [
    {
     "data": {
      "text/html": [
       "<div>\n",
       "<style>\n",
       "    .dataframe thead tr:only-child th {\n",
       "        text-align: right;\n",
       "    }\n",
       "\n",
       "    .dataframe thead th {\n",
       "        text-align: left;\n",
       "    }\n",
       "\n",
       "    .dataframe tbody tr th {\n",
       "        vertical-align: top;\n",
       "    }\n",
       "</style>\n",
       "<table border=\"1\" class=\"dataframe\">\n",
       "  <thead>\n",
       "    <tr style=\"text-align: right;\">\n",
       "      <th></th>\n",
       "      <th>level_0</th>\n",
       "      <th>delivery_id</th>\n",
       "      <th>customer_id</th>\n",
       "      <th>jumpman_id</th>\n",
       "      <th>vehicle_type</th>\n",
       "      <th>pickup_place</th>\n",
       "      <th>place_category</th>\n",
       "      <th>how_long_it_took_to_order</th>\n",
       "      <th>pickup_lat</th>\n",
       "      <th>pickup_lon</th>\n",
       "      <th>...</th>\n",
       "      <th>time_the_Jumpman_arrived_at_pickup</th>\n",
       "      <th>date_the_Jumpman_left_pickup</th>\n",
       "      <th>time_the_Jumpman_left_pickup</th>\n",
       "      <th>date_the_Jumpman_arrived_at_dropoff</th>\n",
       "      <th>time_the_Jumpman_arrived_at_dropoff</th>\n",
       "      <th>Minutes_from_start_to_deliver</th>\n",
       "      <th>Minutes_in_pickup</th>\n",
       "      <th>Minutes_pickup_dropoff</th>\n",
       "      <th>churn</th>\n",
       "      <th>dist</th>\n",
       "    </tr>\n",
       "  </thead>\n",
       "  <tbody>\n",
       "    <tr>\n",
       "      <th>0</th>\n",
       "      <td>2</td>\n",
       "      <td>1476547</td>\n",
       "      <td>83095</td>\n",
       "      <td>132725</td>\n",
       "      <td>bicycle</td>\n",
       "      <td>Bareburger</td>\n",
       "      <td>Burger</td>\n",
       "      <td>0.0</td>\n",
       "      <td>40.728478</td>\n",
       "      <td>-73.998392</td>\n",
       "      <td>...</td>\n",
       "      <td>9:37:19 PM</td>\n",
       "      <td>10/28/14</td>\n",
       "      <td>9:59:10 PM</td>\n",
       "      <td>10/28/14</td>\n",
       "      <td>22:04:41</td>\n",
       "      <td>24</td>\n",
       "      <td>21</td>\n",
       "      <td>5</td>\n",
       "      <td>0</td>\n",
       "      <td>20.590855</td>\n",
       "    </tr>\n",
       "    <tr>\n",
       "      <th>1</th>\n",
       "      <td>4</td>\n",
       "      <td>1327707</td>\n",
       "      <td>122609</td>\n",
       "      <td>118095</td>\n",
       "      <td>bicycle</td>\n",
       "      <td>Blue Ribbon Sushi</td>\n",
       "      <td>Japanese</td>\n",
       "      <td>0.0</td>\n",
       "      <td>40.726110</td>\n",
       "      <td>-74.002492</td>\n",
       "      <td>...</td>\n",
       "      <td>12:14:43 AM</td>\n",
       "      <td>10/10/14</td>\n",
       "      <td>12:25:19 AM</td>\n",
       "      <td>10/10/14</td>\n",
       "      <td>0:48:27</td>\n",
       "      <td>41</td>\n",
       "      <td>10</td>\n",
       "      <td>23</td>\n",
       "      <td>0</td>\n",
       "      <td>136.383647</td>\n",
       "    </tr>\n",
       "    <tr>\n",
       "      <th>2</th>\n",
       "      <td>6</td>\n",
       "      <td>1334106</td>\n",
       "      <td>101347</td>\n",
       "      <td>124897</td>\n",
       "      <td>bicycle</td>\n",
       "      <td>The Loop</td>\n",
       "      <td>Sushi</td>\n",
       "      <td>0.0</td>\n",
       "      <td>40.734858</td>\n",
       "      <td>-73.986093</td>\n",
       "      <td>...</td>\n",
       "      <td>9:07:16 PM</td>\n",
       "      <td>10/10/14</td>\n",
       "      <td>9:29:25 PM</td>\n",
       "      <td>10/10/14</td>\n",
       "      <td>21:40:02</td>\n",
       "      <td>31</td>\n",
       "      <td>22</td>\n",
       "      <td>10</td>\n",
       "      <td>1</td>\n",
       "      <td>91.587924</td>\n",
       "    </tr>\n",
       "    <tr>\n",
       "      <th>3</th>\n",
       "      <td>7</td>\n",
       "      <td>1311619</td>\n",
       "      <td>59161</td>\n",
       "      <td>79847</td>\n",
       "      <td>bicycle</td>\n",
       "      <td>Insomnia Cookies</td>\n",
       "      <td>Bakery</td>\n",
       "      <td>NaN</td>\n",
       "      <td>40.729791</td>\n",
       "      <td>-74.000589</td>\n",
       "      <td>...</td>\n",
       "      <td>11:17:36 PM</td>\n",
       "      <td>10/7/14</td>\n",
       "      <td>12:03:24 AM</td>\n",
       "      <td>10/7/14</td>\n",
       "      <td>0:09:17</td>\n",
       "      <td>49</td>\n",
       "      <td>45</td>\n",
       "      <td>5</td>\n",
       "      <td>0</td>\n",
       "      <td>34.753529</td>\n",
       "    </tr>\n",
       "    <tr>\n",
       "      <th>4</th>\n",
       "      <td>8</td>\n",
       "      <td>1487674</td>\n",
       "      <td>55375</td>\n",
       "      <td>181543</td>\n",
       "      <td>bicycle</td>\n",
       "      <td>Cafe Zaiya</td>\n",
       "      <td>NaN</td>\n",
       "      <td>NaN</td>\n",
       "      <td>40.729357</td>\n",
       "      <td>-73.990156</td>\n",
       "      <td>...</td>\n",
       "      <td>4:55:32 PM</td>\n",
       "      <td>10/30/14</td>\n",
       "      <td>5:01:22 PM</td>\n",
       "      <td>10/30/14</td>\n",
       "      <td>17:10:45</td>\n",
       "      <td>20</td>\n",
       "      <td>5</td>\n",
       "      <td>9</td>\n",
       "      <td>0</td>\n",
       "      <td>69.303590</td>\n",
       "    </tr>\n",
       "  </tbody>\n",
       "</table>\n",
       "<p>5 rows × 27 columns</p>\n",
       "</div>"
      ],
      "text/plain": [
       "   level_0  delivery_id  customer_id  jumpman_id vehicle_type  \\\n",
       "0        2      1476547        83095      132725      bicycle   \n",
       "1        4      1327707       122609      118095      bicycle   \n",
       "2        6      1334106       101347      124897      bicycle   \n",
       "3        7      1311619        59161       79847      bicycle   \n",
       "4        8      1487674        55375      181543      bicycle   \n",
       "\n",
       "        pickup_place place_category  how_long_it_took_to_order  pickup_lat  \\\n",
       "0         Bareburger         Burger                        0.0   40.728478   \n",
       "1  Blue Ribbon Sushi       Japanese                        0.0   40.726110   \n",
       "2           The Loop          Sushi                        0.0   40.734858   \n",
       "3   Insomnia Cookies         Bakery                        NaN   40.729791   \n",
       "4         Cafe Zaiya            NaN                        NaN   40.729357   \n",
       "\n",
       "   pickup_lon     ...      time_the_Jumpman_arrived_at_pickup  \\\n",
       "0  -73.998392     ...                              9:37:19 PM   \n",
       "1  -74.002492     ...                             12:14:43 AM   \n",
       "2  -73.986093     ...                              9:07:16 PM   \n",
       "3  -74.000589     ...                             11:17:36 PM   \n",
       "4  -73.990156     ...                              4:55:32 PM   \n",
       "\n",
       "   date_the_Jumpman_left_pickup time_the_Jumpman_left_pickup  \\\n",
       "0                      10/28/14                   9:59:10 PM   \n",
       "1                      10/10/14                  12:25:19 AM   \n",
       "2                      10/10/14                   9:29:25 PM   \n",
       "3                       10/7/14                  12:03:24 AM   \n",
       "4                      10/30/14                   5:01:22 PM   \n",
       "\n",
       "  date_the_Jumpman_arrived_at_dropoff time_the_Jumpman_arrived_at_dropoff  \\\n",
       "0                            10/28/14                            22:04:41   \n",
       "1                            10/10/14                             0:48:27   \n",
       "2                            10/10/14                            21:40:02   \n",
       "3                             10/7/14                             0:09:17   \n",
       "4                            10/30/14                            17:10:45   \n",
       "\n",
       "  Minutes_from_start_to_deliver Minutes_in_pickup Minutes_pickup_dropoff  \\\n",
       "0                            24                21                      5   \n",
       "1                            41                10                     23   \n",
       "2                            31                22                     10   \n",
       "3                            49                45                      5   \n",
       "4                            20                 5                      9   \n",
       "\n",
       "  churn        dist  \n",
       "0     0   20.590855  \n",
       "1     0  136.383647  \n",
       "2     1   91.587924  \n",
       "3     0   34.753529  \n",
       "4     0   69.303590  \n",
       "\n",
       "[5 rows x 27 columns]"
      ]
     },
     "execution_count": 53,
     "metadata": {},
     "output_type": "execute_result"
    }
   ],
   "source": [
    "Jumpman_cus.head()"
   ]
  },
  {
   "cell_type": "markdown",
   "metadata": {},
   "source": [
    "### 3. Binary variable 'pre-order' indicating whether items are pre-ordered or not: pre-ordered = 1"
   ]
  },
  {
   "cell_type": "markdown",
   "metadata": {},
   "source": [
    "We can figure whether items are pre-ordered or not by checking if there are NAs for date_the_Jumpman_arrived_at_pickup, time_the_Jumpman_arrived_at_pickup, date_the_Jumpman_left_pickup, time_the_Jumpman_left_pickup"
   ]
  },
  {
   "cell_type": "code",
   "execution_count": 54,
   "metadata": {},
   "outputs": [
    {
     "data": {
      "text/plain": [
       "level_0                                   0\n",
       "delivery_id                               0\n",
       "customer_id                               0\n",
       "jumpman_id                                0\n",
       "vehicle_type                              0\n",
       "pickup_place                              0\n",
       "place_category                          582\n",
       "how_long_it_took_to_order              1770\n",
       "pickup_lat                                0\n",
       "pickup_lon                                0\n",
       "dropoff_lat                               0\n",
       "dropoff_lon                               0\n",
       "Date                                      0\n",
       "Day_of_week                               0\n",
       "Time_the_delivery_started                 0\n",
       "Time_of_day                               0\n",
       "date_the_Jumpman_arrived_at_pickup      335\n",
       "time_the_Jumpman_arrived_at_pickup      335\n",
       "date_the_Jumpman_left_pickup            335\n",
       "time_the_Jumpman_left_pickup            335\n",
       "date_the_Jumpman_arrived_at_dropoff       0\n",
       "time_the_Jumpman_arrived_at_dropoff       0\n",
       "Minutes_from_start_to_deliver             0\n",
       "Minutes_in_pickup                         0\n",
       "Minutes_pickup_dropoff                    0\n",
       "churn                                     0\n",
       "dist                                      0\n",
       "dtype: int64"
      ]
     },
     "execution_count": 54,
     "metadata": {},
     "output_type": "execute_result"
    }
   ],
   "source": [
    "# check NAs in these four columns\n",
    "Jumpman_cus.isnull().sum()"
   ]
  },
  {
   "cell_type": "code",
   "execution_count": 55,
   "metadata": {
    "collapsed": true
   },
   "outputs": [],
   "source": [
    "key = Jumpman_cus.date_the_Jumpman_arrived_at_pickup.isnull()"
   ]
  },
  {
   "cell_type": "code",
   "execution_count": 56,
   "metadata": {
    "collapsed": true
   },
   "outputs": [],
   "source": [
    "pre_order = [1 if value else 0 for value in key]"
   ]
  },
  {
   "cell_type": "code",
   "execution_count": 57,
   "metadata": {
    "collapsed": true
   },
   "outputs": [],
   "source": [
    "Jumpman_cus['pre_order']=pre_order"
   ]
  },
  {
   "cell_type": "code",
   "execution_count": 58,
   "metadata": {},
   "outputs": [
    {
     "data": {
      "text/plain": [
       "0    3229\n",
       "1     335\n",
       "Name: pre_order, dtype: int64"
      ]
     },
     "execution_count": 58,
     "metadata": {},
     "output_type": "execute_result"
    }
   ],
   "source": [
    "Jumpman_cus.pre_order.value_counts()"
   ]
  },
  {
   "cell_type": "code",
   "execution_count": 67,
   "metadata": {},
   "outputs": [
    {
     "data": {
      "text/html": [
       "<div>\n",
       "<style>\n",
       "    .dataframe thead tr:only-child th {\n",
       "        text-align: right;\n",
       "    }\n",
       "\n",
       "    .dataframe thead th {\n",
       "        text-align: left;\n",
       "    }\n",
       "\n",
       "    .dataframe tbody tr th {\n",
       "        vertical-align: top;\n",
       "    }\n",
       "</style>\n",
       "<table border=\"1\" class=\"dataframe\">\n",
       "  <thead>\n",
       "    <tr style=\"text-align: right;\">\n",
       "      <th></th>\n",
       "      <th>level_0</th>\n",
       "      <th>delivery_id</th>\n",
       "      <th>customer_id</th>\n",
       "      <th>jumpman_id</th>\n",
       "      <th>vehicle_type</th>\n",
       "      <th>pickup_place</th>\n",
       "      <th>place_category</th>\n",
       "      <th>how_long_it_took_to_order</th>\n",
       "      <th>pickup_lat</th>\n",
       "      <th>pickup_lon</th>\n",
       "      <th>...</th>\n",
       "      <th>date_the_Jumpman_left_pickup</th>\n",
       "      <th>time_the_Jumpman_left_pickup</th>\n",
       "      <th>date_the_Jumpman_arrived_at_dropoff</th>\n",
       "      <th>time_the_Jumpman_arrived_at_dropoff</th>\n",
       "      <th>Minutes_from_start_to_deliver</th>\n",
       "      <th>Minutes_in_pickup</th>\n",
       "      <th>Minutes_pickup_dropoff</th>\n",
       "      <th>churn</th>\n",
       "      <th>dist</th>\n",
       "      <th>pre_order</th>\n",
       "    </tr>\n",
       "  </thead>\n",
       "  <tbody>\n",
       "    <tr>\n",
       "      <th>0</th>\n",
       "      <td>2</td>\n",
       "      <td>1476547</td>\n",
       "      <td>83095</td>\n",
       "      <td>132725</td>\n",
       "      <td>bicycle</td>\n",
       "      <td>Bareburger</td>\n",
       "      <td>Burger</td>\n",
       "      <td>0.0</td>\n",
       "      <td>40.728478</td>\n",
       "      <td>-73.998392</td>\n",
       "      <td>...</td>\n",
       "      <td>10/28/14</td>\n",
       "      <td>9:59:10 PM</td>\n",
       "      <td>10/28/14</td>\n",
       "      <td>22:04:41</td>\n",
       "      <td>24</td>\n",
       "      <td>21</td>\n",
       "      <td>5</td>\n",
       "      <td>0</td>\n",
       "      <td>20.590855</td>\n",
       "      <td>0</td>\n",
       "    </tr>\n",
       "    <tr>\n",
       "      <th>1</th>\n",
       "      <td>4</td>\n",
       "      <td>1327707</td>\n",
       "      <td>122609</td>\n",
       "      <td>118095</td>\n",
       "      <td>bicycle</td>\n",
       "      <td>Blue Ribbon Sushi</td>\n",
       "      <td>Japanese</td>\n",
       "      <td>0.0</td>\n",
       "      <td>40.726110</td>\n",
       "      <td>-74.002492</td>\n",
       "      <td>...</td>\n",
       "      <td>10/10/14</td>\n",
       "      <td>12:25:19 AM</td>\n",
       "      <td>10/10/14</td>\n",
       "      <td>0:48:27</td>\n",
       "      <td>41</td>\n",
       "      <td>10</td>\n",
       "      <td>23</td>\n",
       "      <td>0</td>\n",
       "      <td>136.383647</td>\n",
       "      <td>0</td>\n",
       "    </tr>\n",
       "  </tbody>\n",
       "</table>\n",
       "<p>2 rows × 28 columns</p>\n",
       "</div>"
      ],
      "text/plain": [
       "   level_0  delivery_id  customer_id  jumpman_id vehicle_type  \\\n",
       "0        2      1476547        83095      132725      bicycle   \n",
       "1        4      1327707       122609      118095      bicycle   \n",
       "\n",
       "        pickup_place place_category  how_long_it_took_to_order  pickup_lat  \\\n",
       "0         Bareburger         Burger                        0.0   40.728478   \n",
       "1  Blue Ribbon Sushi       Japanese                        0.0   40.726110   \n",
       "\n",
       "   pickup_lon    ...     date_the_Jumpman_left_pickup  \\\n",
       "0  -73.998392    ...                         10/28/14   \n",
       "1  -74.002492    ...                         10/10/14   \n",
       "\n",
       "   time_the_Jumpman_left_pickup date_the_Jumpman_arrived_at_dropoff  \\\n",
       "0                    9:59:10 PM                            10/28/14   \n",
       "1                   12:25:19 AM                            10/10/14   \n",
       "\n",
       "  time_the_Jumpman_arrived_at_dropoff Minutes_from_start_to_deliver  \\\n",
       "0                            22:04:41                            24   \n",
       "1                             0:48:27                            41   \n",
       "\n",
       "  Minutes_in_pickup Minutes_pickup_dropoff churn        dist pre_order  \n",
       "0                21                      5     0   20.590855         0  \n",
       "1                10                     23     0  136.383647         0  \n",
       "\n",
       "[2 rows x 28 columns]"
      ]
     },
     "execution_count": 67,
     "metadata": {},
     "output_type": "execute_result"
    }
   ],
   "source": [
    "Jumpman_cus.head(2)"
   ]
  },
  {
   "cell_type": "code",
   "execution_count": 69,
   "metadata": {},
   "outputs": [],
   "source": [
    "Jumpman_cus=Jumpman_cus.drop(['level_0'],axis=1)"
   ]
  },
  {
   "cell_type": "code",
   "execution_count": 70,
   "metadata": {},
   "outputs": [
    {
     "data": {
      "text/html": [
       "<div>\n",
       "<style>\n",
       "    .dataframe thead tr:only-child th {\n",
       "        text-align: right;\n",
       "    }\n",
       "\n",
       "    .dataframe thead th {\n",
       "        text-align: left;\n",
       "    }\n",
       "\n",
       "    .dataframe tbody tr th {\n",
       "        vertical-align: top;\n",
       "    }\n",
       "</style>\n",
       "<table border=\"1\" class=\"dataframe\">\n",
       "  <thead>\n",
       "    <tr style=\"text-align: right;\">\n",
       "      <th></th>\n",
       "      <th>delivery_id</th>\n",
       "      <th>customer_id</th>\n",
       "      <th>jumpman_id</th>\n",
       "      <th>vehicle_type</th>\n",
       "      <th>pickup_place</th>\n",
       "      <th>place_category</th>\n",
       "      <th>how_long_it_took_to_order</th>\n",
       "      <th>pickup_lat</th>\n",
       "      <th>pickup_lon</th>\n",
       "      <th>dropoff_lat</th>\n",
       "      <th>...</th>\n",
       "      <th>date_the_Jumpman_left_pickup</th>\n",
       "      <th>time_the_Jumpman_left_pickup</th>\n",
       "      <th>date_the_Jumpman_arrived_at_dropoff</th>\n",
       "      <th>time_the_Jumpman_arrived_at_dropoff</th>\n",
       "      <th>Minutes_from_start_to_deliver</th>\n",
       "      <th>Minutes_in_pickup</th>\n",
       "      <th>Minutes_pickup_dropoff</th>\n",
       "      <th>churn</th>\n",
       "      <th>dist</th>\n",
       "      <th>pre_order</th>\n",
       "    </tr>\n",
       "  </thead>\n",
       "  <tbody>\n",
       "    <tr>\n",
       "      <th>0</th>\n",
       "      <td>1476547</td>\n",
       "      <td>83095</td>\n",
       "      <td>132725</td>\n",
       "      <td>bicycle</td>\n",
       "      <td>Bareburger</td>\n",
       "      <td>Burger</td>\n",
       "      <td>0.0</td>\n",
       "      <td>40.728478</td>\n",
       "      <td>-73.998392</td>\n",
       "      <td>40.728606</td>\n",
       "      <td>...</td>\n",
       "      <td>10/28/14</td>\n",
       "      <td>9:59:10 PM</td>\n",
       "      <td>10/28/14</td>\n",
       "      <td>22:04:41</td>\n",
       "      <td>24</td>\n",
       "      <td>21</td>\n",
       "      <td>5</td>\n",
       "      <td>0</td>\n",
       "      <td>20.590855</td>\n",
       "      <td>0</td>\n",
       "    </tr>\n",
       "    <tr>\n",
       "      <th>1</th>\n",
       "      <td>1327707</td>\n",
       "      <td>122609</td>\n",
       "      <td>118095</td>\n",
       "      <td>bicycle</td>\n",
       "      <td>Blue Ribbon Sushi</td>\n",
       "      <td>Japanese</td>\n",
       "      <td>0.0</td>\n",
       "      <td>40.726110</td>\n",
       "      <td>-74.002492</td>\n",
       "      <td>40.709323</td>\n",
       "      <td>...</td>\n",
       "      <td>10/10/14</td>\n",
       "      <td>12:25:19 AM</td>\n",
       "      <td>10/10/14</td>\n",
       "      <td>0:48:27</td>\n",
       "      <td>41</td>\n",
       "      <td>10</td>\n",
       "      <td>23</td>\n",
       "      <td>0</td>\n",
       "      <td>136.383647</td>\n",
       "      <td>0</td>\n",
       "    </tr>\n",
       "  </tbody>\n",
       "</table>\n",
       "<p>2 rows × 27 columns</p>\n",
       "</div>"
      ],
      "text/plain": [
       "   delivery_id  customer_id  jumpman_id vehicle_type       pickup_place  \\\n",
       "0      1476547        83095      132725      bicycle         Bareburger   \n",
       "1      1327707       122609      118095      bicycle  Blue Ribbon Sushi   \n",
       "\n",
       "  place_category  how_long_it_took_to_order  pickup_lat  pickup_lon  \\\n",
       "0         Burger                        0.0   40.728478  -73.998392   \n",
       "1       Japanese                        0.0   40.726110  -74.002492   \n",
       "\n",
       "   dropoff_lat    ...     date_the_Jumpman_left_pickup  \\\n",
       "0    40.728606    ...                         10/28/14   \n",
       "1    40.709323    ...                         10/10/14   \n",
       "\n",
       "  time_the_Jumpman_left_pickup date_the_Jumpman_arrived_at_dropoff  \\\n",
       "0                   9:59:10 PM                            10/28/14   \n",
       "1                  12:25:19 AM                            10/10/14   \n",
       "\n",
       "  time_the_Jumpman_arrived_at_dropoff Minutes_from_start_to_deliver  \\\n",
       "0                            22:04:41                            24   \n",
       "1                             0:48:27                            41   \n",
       "\n",
       "  Minutes_in_pickup Minutes_pickup_dropoff churn        dist pre_order  \n",
       "0                21                      5     0   20.590855         0  \n",
       "1                10                     23     0  136.383647         0  \n",
       "\n",
       "[2 rows x 27 columns]"
      ]
     },
     "execution_count": 70,
     "metadata": {},
     "output_type": "execute_result"
    }
   ],
   "source": [
    "Jumpman_cus.head(2)"
   ]
  },
  {
   "cell_type": "code",
   "execution_count": 71,
   "metadata": {
    "collapsed": true
   },
   "outputs": [],
   "source": [
    "Jumpman_cus.to_csv(\"Jumpman_cus.csv\",index=False)"
   ]
  },
  {
   "cell_type": "markdown",
   "metadata": {},
   "source": [
    "## Build logistic regression models and tree based models to explore important feature for user churn"
   ]
  },
  {
   "cell_type": "markdown",
   "metadata": {},
   "source": [
    "### 1. Make the data ready"
   ]
  },
  {
   "cell_type": "code",
   "execution_count": 72,
   "metadata": {
    "scrolled": true
   },
   "outputs": [
    {
     "data": {
      "text/plain": [
       "0    2098\n",
       "1    1466\n",
       "Name: churn, dtype: int64"
      ]
     },
     "execution_count": 72,
     "metadata": {},
     "output_type": "execute_result"
    }
   ],
   "source": [
    "Jumpman_cus.churn.value_counts()"
   ]
  },
  {
   "cell_type": "code",
   "execution_count": 73,
   "metadata": {
    "collapsed": true
   },
   "outputs": [],
   "source": [
    "# create new dataframe newjumpman only contains useful features after introducing engineered features into dataset.\n",
    "# how_long_it_take_to_order is also deleted since there are over 50% missing value\n",
    "jumpman_dat = Jumpman_cus.drop(['delivery_id','jumpman_id','customer_id','pickup_place','place_category','how_long_it_took_to_order','pickup_lat','pickup_lon','dropoff_lat','dropoff_lon','Time_the_delivery_started','date_the_Jumpman_arrived_at_pickup','time_the_Jumpman_arrived_at_pickup',\n",
    "                          'date_the_Jumpman_left_pickup','time_the_Jumpman_left_pickup','date_the_Jumpman_arrived_at_dropoff',\n",
    "                          'time_the_Jumpman_arrived_at_dropoff','Date'],axis=1)"
   ]
  },
  {
   "cell_type": "code",
   "execution_count": 74,
   "metadata": {},
   "outputs": [
    {
     "name": "stdout",
     "output_type": "stream",
     "text": [
      "<class 'pandas.core.frame.DataFrame'>\n",
      "RangeIndex: 3564 entries, 0 to 3563\n",
      "Data columns (total 9 columns):\n",
      "vehicle_type                     3564 non-null object\n",
      "Day_of_week                      3564 non-null object\n",
      "Time_of_day                      3564 non-null object\n",
      "Minutes_from_start_to_deliver    3564 non-null int64\n",
      "Minutes_in_pickup                3564 non-null int64\n",
      "Minutes_pickup_dropoff           3564 non-null int64\n",
      "churn                            3564 non-null int64\n",
      "dist                             3564 non-null float64\n",
      "pre_order                        3564 non-null int64\n",
      "dtypes: float64(1), int64(5), object(3)\n",
      "memory usage: 250.7+ KB\n"
     ]
    }
   ],
   "source": [
    "jumpman_dat.info(5)"
   ]
  },
  {
   "cell_type": "code",
   "execution_count": 75,
   "metadata": {},
   "outputs": [
    {
     "data": {
      "text/html": [
       "<div>\n",
       "<style>\n",
       "    .dataframe thead tr:only-child th {\n",
       "        text-align: right;\n",
       "    }\n",
       "\n",
       "    .dataframe thead th {\n",
       "        text-align: left;\n",
       "    }\n",
       "\n",
       "    .dataframe tbody tr th {\n",
       "        vertical-align: top;\n",
       "    }\n",
       "</style>\n",
       "<table border=\"1\" class=\"dataframe\">\n",
       "  <thead>\n",
       "    <tr style=\"text-align: right;\">\n",
       "      <th></th>\n",
       "      <th>vehicle_type</th>\n",
       "      <th>Day_of_week</th>\n",
       "      <th>Time_of_day</th>\n",
       "      <th>Minutes_from_start_to_deliver</th>\n",
       "      <th>Minutes_in_pickup</th>\n",
       "      <th>Minutes_pickup_dropoff</th>\n",
       "      <th>churn</th>\n",
       "      <th>dist</th>\n",
       "      <th>pre_order</th>\n",
       "    </tr>\n",
       "  </thead>\n",
       "  <tbody>\n",
       "    <tr>\n",
       "      <th>0</th>\n",
       "      <td>bicycle</td>\n",
       "      <td>Tuesday</td>\n",
       "      <td>evening</td>\n",
       "      <td>24</td>\n",
       "      <td>21</td>\n",
       "      <td>5</td>\n",
       "      <td>0</td>\n",
       "      <td>20.590855</td>\n",
       "      <td>0</td>\n",
       "    </tr>\n",
       "    <tr>\n",
       "      <th>1</th>\n",
       "      <td>bicycle</td>\n",
       "      <td>Friday</td>\n",
       "      <td>midnight</td>\n",
       "      <td>41</td>\n",
       "      <td>10</td>\n",
       "      <td>23</td>\n",
       "      <td>0</td>\n",
       "      <td>136.383647</td>\n",
       "      <td>0</td>\n",
       "    </tr>\n",
       "    <tr>\n",
       "      <th>2</th>\n",
       "      <td>bicycle</td>\n",
       "      <td>Friday</td>\n",
       "      <td>evening</td>\n",
       "      <td>31</td>\n",
       "      <td>22</td>\n",
       "      <td>10</td>\n",
       "      <td>1</td>\n",
       "      <td>91.587924</td>\n",
       "      <td>0</td>\n",
       "    </tr>\n",
       "    <tr>\n",
       "      <th>3</th>\n",
       "      <td>bicycle</td>\n",
       "      <td>Monday</td>\n",
       "      <td>evening</td>\n",
       "      <td>49</td>\n",
       "      <td>45</td>\n",
       "      <td>5</td>\n",
       "      <td>0</td>\n",
       "      <td>34.753529</td>\n",
       "      <td>0</td>\n",
       "    </tr>\n",
       "    <tr>\n",
       "      <th>4</th>\n",
       "      <td>bicycle</td>\n",
       "      <td>Thursday</td>\n",
       "      <td>afternoon</td>\n",
       "      <td>20</td>\n",
       "      <td>5</td>\n",
       "      <td>9</td>\n",
       "      <td>0</td>\n",
       "      <td>69.303590</td>\n",
       "      <td>0</td>\n",
       "    </tr>\n",
       "    <tr>\n",
       "      <th>5</th>\n",
       "      <td>bicycle</td>\n",
       "      <td>Friday</td>\n",
       "      <td>evening</td>\n",
       "      <td>46</td>\n",
       "      <td>4</td>\n",
       "      <td>9</td>\n",
       "      <td>1</td>\n",
       "      <td>120.356315</td>\n",
       "      <td>0</td>\n",
       "    </tr>\n",
       "    <tr>\n",
       "      <th>6</th>\n",
       "      <td>bicycle</td>\n",
       "      <td>Thursday</td>\n",
       "      <td>evening</td>\n",
       "      <td>65</td>\n",
       "      <td>0</td>\n",
       "      <td>0</td>\n",
       "      <td>0</td>\n",
       "      <td>80.795011</td>\n",
       "      <td>1</td>\n",
       "    </tr>\n",
       "    <tr>\n",
       "      <th>7</th>\n",
       "      <td>bicycle</td>\n",
       "      <td>Sunday</td>\n",
       "      <td>evening</td>\n",
       "      <td>46</td>\n",
       "      <td>33</td>\n",
       "      <td>10</td>\n",
       "      <td>1</td>\n",
       "      <td>29.283034</td>\n",
       "      <td>0</td>\n",
       "    </tr>\n",
       "    <tr>\n",
       "      <th>8</th>\n",
       "      <td>bicycle</td>\n",
       "      <td>Tuesday</td>\n",
       "      <td>afternoon</td>\n",
       "      <td>39</td>\n",
       "      <td>19</td>\n",
       "      <td>5</td>\n",
       "      <td>0</td>\n",
       "      <td>17.354406</td>\n",
       "      <td>0</td>\n",
       "    </tr>\n",
       "    <tr>\n",
       "      <th>9</th>\n",
       "      <td>bicycle</td>\n",
       "      <td>Tuesday</td>\n",
       "      <td>afternoon</td>\n",
       "      <td>48</td>\n",
       "      <td>18</td>\n",
       "      <td>26</td>\n",
       "      <td>0</td>\n",
       "      <td>193.869096</td>\n",
       "      <td>0</td>\n",
       "    </tr>\n",
       "  </tbody>\n",
       "</table>\n",
       "</div>"
      ],
      "text/plain": [
       "  vehicle_type Day_of_week Time_of_day  Minutes_from_start_to_deliver  \\\n",
       "0      bicycle     Tuesday     evening                             24   \n",
       "1      bicycle      Friday    midnight                             41   \n",
       "2      bicycle      Friday     evening                             31   \n",
       "3      bicycle      Monday     evening                             49   \n",
       "4      bicycle    Thursday   afternoon                             20   \n",
       "5      bicycle      Friday     evening                             46   \n",
       "6      bicycle    Thursday     evening                             65   \n",
       "7      bicycle      Sunday     evening                             46   \n",
       "8      bicycle     Tuesday   afternoon                             39   \n",
       "9      bicycle     Tuesday   afternoon                             48   \n",
       "\n",
       "   Minutes_in_pickup  Minutes_pickup_dropoff  churn        dist  pre_order  \n",
       "0                 21                       5      0   20.590855          0  \n",
       "1                 10                      23      0  136.383647          0  \n",
       "2                 22                      10      1   91.587924          0  \n",
       "3                 45                       5      0   34.753529          0  \n",
       "4                  5                       9      0   69.303590          0  \n",
       "5                  4                       9      1  120.356315          0  \n",
       "6                  0                       0      0   80.795011          1  \n",
       "7                 33                      10      1   29.283034          0  \n",
       "8                 19                       5      0   17.354406          0  \n",
       "9                 18                      26      0  193.869096          0  "
      ]
     },
     "execution_count": 75,
     "metadata": {},
     "output_type": "execute_result"
    }
   ],
   "source": [
    "jumpman_dat.head(10)"
   ]
  },
  {
   "cell_type": "code",
   "execution_count": 76,
   "metadata": {
    "scrolled": true
   },
   "outputs": [
    {
     "data": {
      "text/plain": [
       "vehicle_type                     0\n",
       "Day_of_week                      0\n",
       "Time_of_day                      0\n",
       "Minutes_from_start_to_deliver    0\n",
       "Minutes_in_pickup                0\n",
       "Minutes_pickup_dropoff           0\n",
       "churn                            0\n",
       "dist                             0\n",
       "pre_order                        0\n",
       "dtype: int64"
      ]
     },
     "execution_count": 76,
     "metadata": {},
     "output_type": "execute_result"
    }
   ],
   "source": [
    "jumpman_dat.isnull().sum()"
   ]
  },
  {
   "cell_type": "code",
   "execution_count": 77,
   "metadata": {
    "collapsed": true
   },
   "outputs": [],
   "source": [
    "jumpman_dat['churn'] = jumpman_dat['churn'].astype(\"category\")\n",
    "jumpman_dat['pre_order'] = jumpman_dat['pre_order'].astype(\"category\")"
   ]
  },
  {
   "cell_type": "markdown",
   "metadata": {},
   "source": [
    "### 2. Train/Test Split"
   ]
  },
  {
   "cell_type": "code",
   "execution_count": 78,
   "metadata": {},
   "outputs": [
    {
     "name": "stderr",
     "output_type": "stream",
     "text": [
      "/anaconda/lib/python2.7/site-packages/sklearn/cross_validation.py:44: DeprecationWarning: This module was deprecated in version 0.18 in favor of the model_selection module into which all the refactored classes and functions are moved. Also note that the interface of the new CV iterators are different from that of this module. This module will be removed in 0.20.\n",
      "  \"This module will be removed in 0.20.\", DeprecationWarning)\n"
     ]
    }
   ],
   "source": [
    "from sklearn.cross_validation import train_test_split\n",
    "y = np.array(jumpman_dat['churn'])\n",
    "dummy_dat=pd.get_dummies(jumpman_dat.drop('churn',axis=1))\n",
    "x = np.array(dummy_dat)"
   ]
  },
  {
   "cell_type": "code",
   "execution_count": 79,
   "metadata": {},
   "outputs": [
    {
     "name": "stdout",
     "output_type": "stream",
     "text": [
      "shape of x is:(3564, 24)\n",
      "shape of y is:(3564,)\n"
     ]
    }
   ],
   "source": [
    "print('shape of x is:%s' % str(x.shape))\n",
    "print('shape of y is:%s' % str(y.shape))"
   ]
  },
  {
   "cell_type": "code",
   "execution_count": 80,
   "metadata": {
    "collapsed": true
   },
   "outputs": [],
   "source": [
    "x_train,x_test,y_train,y_test=train_test_split(x,y,test_size=0.2,random_state=17)"
   ]
  },
  {
   "cell_type": "code",
   "execution_count": 81,
   "metadata": {},
   "outputs": [
    {
     "data": {
      "text/plain": [
       "array(['Minutes_from_start_to_deliver', 'Minutes_in_pickup',\n",
       "       'Minutes_pickup_dropoff', 'dist', 'vehicle_type_bicycle',\n",
       "       'vehicle_type_car', 'vehicle_type_motorcycle',\n",
       "       'vehicle_type_scooter', 'vehicle_type_truck', 'vehicle_type_van',\n",
       "       'vehicle_type_walker', 'Day_of_week_Friday', 'Day_of_week_Monday',\n",
       "       'Day_of_week_Saturday', 'Day_of_week_Sunday',\n",
       "       'Day_of_week_Thursday', 'Day_of_week_Tuesday',\n",
       "       'Day_of_week_Wednesday', 'Time_of_day_afternoon',\n",
       "       'Time_of_day_evening', 'Time_of_day_midnight',\n",
       "       'Time_of_day_morning', 'pre_order_0', 'pre_order_1'], dtype=object)"
      ]
     },
     "execution_count": 81,
     "metadata": {},
     "output_type": "execute_result"
    }
   ],
   "source": [
    "feature_names=dummy_dat.columns.values\n",
    "feature_names"
   ]
  },
  {
   "cell_type": "markdown",
   "metadata": {},
   "source": [
    "### 3. Logistic Regression Model"
   ]
  },
  {
   "cell_type": "code",
   "execution_count": 82,
   "metadata": {
    "collapsed": true
   },
   "outputs": [],
   "source": [
    "from sklearn.linear_model import LogisticRegression\n",
    "from sklearn.ensemble import RandomForestClassifier\n",
    "from sklearn.model_selection import GridSearchCV\n",
    "from sklearn import cross_validation"
   ]
  },
  {
   "cell_type": "code",
   "execution_count": 83,
   "metadata": {},
   "outputs": [
    {
     "data": {
      "text/plain": [
       "LogisticRegression(C=1.0, class_weight=None, dual=False, fit_intercept=True,\n",
       "          intercept_scaling=1, max_iter=100, multi_class='ovr', n_jobs=1,\n",
       "          penalty='l2', random_state=None, solver='liblinear', tol=0.0001,\n",
       "          verbose=0, warm_start=False)"
      ]
     },
     "execution_count": 83,
     "metadata": {},
     "output_type": "execute_result"
    }
   ],
   "source": [
    "LogisticModel = LogisticRegression()\n",
    "LogisticModel.fit(x_train,y_train)"
   ]
  },
  {
   "cell_type": "markdown",
   "metadata": {},
   "source": [
    "Use GridSearch method to find best parameters"
   ]
  },
  {
   "cell_type": "code",
   "execution_count": 84,
   "metadata": {},
   "outputs": [
    {
     "name": "stdout",
     "output_type": "stream",
     "text": [
      "Logistic Regression: Best parameters set found on development set:\n",
      "{'penalty': 'l2', 'C': 0.5, 'tol': 0.0001}\n"
     ]
    }
   ],
   "source": [
    "LR_param = {\n",
    "    \"penalty\": [\"l1\",\"l2\"],\n",
    "    \"C\":[0.5,1,2,4,8,16],\n",
    "    \"tol\":[0.01,0.001,0.0001,0.00001]\n",
    "}\n",
    "LR = LogisticRegression(n_jobs=4)\n",
    "LR_grid=GridSearchCV(LR,LR_param,cv=5)\n",
    "LR_grid.fit(x_train,y_train)\n",
    "print(\"Logistic Regression: Best parameters set found on development set:\")  \n",
    "print(LR_grid.best_params_)"
   ]
  },
  {
   "cell_type": "code",
   "execution_count": 85,
   "metadata": {},
   "outputs": [
    {
     "name": "stdout",
     "output_type": "stream",
     "text": [
      "Training DataSet Score: 0.591371\n",
      "Testing DataSet Score: 0.584853\n"
     ]
    }
   ],
   "source": [
    "LogisticModel = LogisticRegression(penalty = 'l2', C = 0.5, tol = 0.0001)\n",
    "LogisticModel.fit(x_train, y_train)\n",
    "print('Training DataSet Score: %f' % LogisticModel.score(x_train, y_train))\n",
    "print('Testing DataSet Score: %f' % LogisticModel.score(x_test, y_test))"
   ]
  },
  {
   "cell_type": "code",
   "execution_count": 86,
   "metadata": {
    "collapsed": true
   },
   "outputs": [],
   "source": [
    "def get_top_values(lst, n, labels):\n",
    "    return [labels[i] for i in np.argsort(lst)[::-1][:n]] "
   ]
  },
  {
   "cell_type": "code",
   "execution_count": 87,
   "metadata": {},
   "outputs": [
    {
     "data": {
      "text/plain": [
       "['vehicle_type_walker',\n",
       " 'vehicle_type_truck',\n",
       " 'Time_of_day_midnight',\n",
       " 'Day_of_week_Thursday',\n",
       " 'Day_of_week_Monday',\n",
       " 'vehicle_type_scooter',\n",
       " 'pre_order_1',\n",
       " 'Day_of_week_Sunday',\n",
       " 'Time_of_day_evening',\n",
       " 'Day_of_week_Tuesday']"
      ]
     },
     "execution_count": 87,
     "metadata": {},
     "output_type": "execute_result"
    }
   ],
   "source": [
    "coeff = np.absolute(LogisticModel.coef_[0])\n",
    "get_top_values(coeff, 10, feature_names)"
   ]
  },
  {
   "cell_type": "markdown",
   "metadata": {},
   "source": [
    "### 4. Random Forest Classifier"
   ]
  },
  {
   "cell_type": "code",
   "execution_count": 88,
   "metadata": {},
   "outputs": [
    {
     "data": {
      "text/plain": [
       "((3564, 24), (3564,))"
      ]
     },
     "execution_count": 88,
     "metadata": {},
     "output_type": "execute_result"
    }
   ],
   "source": [
    "X = dummy_dat.values\n",
    "y = Jumpman_cus.churn.values\n",
    "X.shape,y.shape"
   ]
  },
  {
   "cell_type": "code",
   "execution_count": 89,
   "metadata": {},
   "outputs": [
    {
     "data": {
      "text/plain": [
       "((713, 24), (713,))"
      ]
     },
     "execution_count": 89,
     "metadata": {},
     "output_type": "execute_result"
    }
   ],
   "source": [
    "from sklearn.cross_validation import train_test_split\n",
    "X_train, X_test, y_train, y_test = train_test_split(X, y, test_size=0.2, random_state=17)\n",
    "\n",
    "X_test.shape, y_test.shape"
   ]
  },
  {
   "cell_type": "code",
   "execution_count": 90,
   "metadata": {},
   "outputs": [
    {
     "data": {
      "text/plain": [
       "RandomForestClassifier(bootstrap=True, class_weight=None, criterion='entropy',\n",
       "            max_depth=10, max_features='auto', max_leaf_nodes=None,\n",
       "            min_impurity_split=0.1, min_samples_leaf=20,\n",
       "            min_samples_split=50, min_weight_fraction_leaf=0.0,\n",
       "            n_estimators=200, n_jobs=-1, oob_score=False,\n",
       "            random_state=None, verbose=0, warm_start=False)"
      ]
     },
     "execution_count": 90,
     "metadata": {},
     "output_type": "execute_result"
    }
   ],
   "source": [
    "from sklearn.metrics import confusion_matrix, classification_report, roc_curve, roc_auc_score\n",
    "from sklearn.ensemble import RandomForestClassifier\n",
    "\n",
    "model_rfc = RandomForestClassifier(max_depth=10, n_estimators=200, min_samples_leaf=20, criterion='entropy',\n",
    "                                   min_samples_split=50, min_impurity_split=0.1, max_features = 'auto', n_jobs = -1)\n",
    "\n",
    "model_rfc.fit(X_train, y_train)"
   ]
  },
  {
   "cell_type": "code",
   "execution_count": 91,
   "metadata": {},
   "outputs": [
    {
     "data": {
      "text/plain": [
       "(0.60329708874079269, 0.58345021037868161)"
      ]
     },
     "execution_count": 91,
     "metadata": {},
     "output_type": "execute_result"
    }
   ],
   "source": [
    "model_rfc.score(X_train, y_train),model_rfc.score(X_test, y_test)"
   ]
  },
  {
   "cell_type": "code",
   "execution_count": 92,
   "metadata": {},
   "outputs": [
    {
     "data": {
      "text/plain": [
       "0.50144473581973592"
      ]
     },
     "execution_count": 92,
     "metadata": {},
     "output_type": "execute_result"
    }
   ],
   "source": [
    "roc_auc_score(y_test, model_rfc.predict(X_test))"
   ]
  },
  {
   "cell_type": "code",
   "execution_count": 93,
   "metadata": {},
   "outputs": [
    {
     "data": {
      "text/plain": [
       "array([ 0.18835114,  0.14671972,  0.12854732,  0.24246169,  0.0213277 ,\n",
       "        0.01933021,  0.        ,  0.00027865,  0.        ,  0.00044968,\n",
       "        0.01457754,  0.01587315,  0.02293213,  0.01362803,  0.02867512,\n",
       "        0.03217201,  0.01695046,  0.01671755,  0.02052912,  0.03064037,\n",
       "        0.01293261,  0.01241451,  0.00558181,  0.0089095 ])"
      ]
     },
     "execution_count": 93,
     "metadata": {},
     "output_type": "execute_result"
    }
   ],
   "source": [
    "importance_coeff = model_rfc.feature_importances_\n",
    "importance_coeff"
   ]
  },
  {
   "cell_type": "code",
   "execution_count": 94,
   "metadata": {},
   "outputs": [
    {
     "data": {
      "text/html": [
       "<div>\n",
       "<style>\n",
       "    .dataframe thead tr:only-child th {\n",
       "        text-align: right;\n",
       "    }\n",
       "\n",
       "    .dataframe thead th {\n",
       "        text-align: left;\n",
       "    }\n",
       "\n",
       "    .dataframe tbody tr th {\n",
       "        vertical-align: top;\n",
       "    }\n",
       "</style>\n",
       "<table border=\"1\" class=\"dataframe\">\n",
       "  <thead>\n",
       "    <tr style=\"text-align: right;\">\n",
       "      <th></th>\n",
       "      <th>feature</th>\n",
       "      <th>coeff</th>\n",
       "    </tr>\n",
       "  </thead>\n",
       "  <tbody>\n",
       "    <tr>\n",
       "      <th>3</th>\n",
       "      <td>dist</td>\n",
       "      <td>0.242462</td>\n",
       "    </tr>\n",
       "    <tr>\n",
       "      <th>0</th>\n",
       "      <td>Minutes_from_start_to_deliver</td>\n",
       "      <td>0.188351</td>\n",
       "    </tr>\n",
       "    <tr>\n",
       "      <th>1</th>\n",
       "      <td>Minutes_in_pickup</td>\n",
       "      <td>0.146720</td>\n",
       "    </tr>\n",
       "    <tr>\n",
       "      <th>2</th>\n",
       "      <td>Minutes_pickup_dropoff</td>\n",
       "      <td>0.128547</td>\n",
       "    </tr>\n",
       "    <tr>\n",
       "      <th>15</th>\n",
       "      <td>Day_of_week_Thursday</td>\n",
       "      <td>0.032172</td>\n",
       "    </tr>\n",
       "    <tr>\n",
       "      <th>19</th>\n",
       "      <td>Time_of_day_evening</td>\n",
       "      <td>0.030640</td>\n",
       "    </tr>\n",
       "    <tr>\n",
       "      <th>14</th>\n",
       "      <td>Day_of_week_Sunday</td>\n",
       "      <td>0.028675</td>\n",
       "    </tr>\n",
       "    <tr>\n",
       "      <th>12</th>\n",
       "      <td>Day_of_week_Monday</td>\n",
       "      <td>0.022932</td>\n",
       "    </tr>\n",
       "    <tr>\n",
       "      <th>4</th>\n",
       "      <td>vehicle_type_bicycle</td>\n",
       "      <td>0.021328</td>\n",
       "    </tr>\n",
       "    <tr>\n",
       "      <th>18</th>\n",
       "      <td>Time_of_day_afternoon</td>\n",
       "      <td>0.020529</td>\n",
       "    </tr>\n",
       "    <tr>\n",
       "      <th>5</th>\n",
       "      <td>vehicle_type_car</td>\n",
       "      <td>0.019330</td>\n",
       "    </tr>\n",
       "    <tr>\n",
       "      <th>16</th>\n",
       "      <td>Day_of_week_Tuesday</td>\n",
       "      <td>0.016950</td>\n",
       "    </tr>\n",
       "    <tr>\n",
       "      <th>17</th>\n",
       "      <td>Day_of_week_Wednesday</td>\n",
       "      <td>0.016718</td>\n",
       "    </tr>\n",
       "    <tr>\n",
       "      <th>11</th>\n",
       "      <td>Day_of_week_Friday</td>\n",
       "      <td>0.015873</td>\n",
       "    </tr>\n",
       "  </tbody>\n",
       "</table>\n",
       "</div>"
      ],
      "text/plain": [
       "                          feature     coeff\n",
       "3                            dist  0.242462\n",
       "0   Minutes_from_start_to_deliver  0.188351\n",
       "1               Minutes_in_pickup  0.146720\n",
       "2          Minutes_pickup_dropoff  0.128547\n",
       "15           Day_of_week_Thursday  0.032172\n",
       "19            Time_of_day_evening  0.030640\n",
       "14             Day_of_week_Sunday  0.028675\n",
       "12             Day_of_week_Monday  0.022932\n",
       "4            vehicle_type_bicycle  0.021328\n",
       "18          Time_of_day_afternoon  0.020529\n",
       "5                vehicle_type_car  0.019330\n",
       "16            Day_of_week_Tuesday  0.016950\n",
       "17          Day_of_week_Wednesday  0.016718\n",
       "11             Day_of_week_Friday  0.015873"
      ]
     },
     "execution_count": 94,
     "metadata": {},
     "output_type": "execute_result"
    }
   ],
   "source": [
    "df_coeffs = pd.DataFrame(list(zip(dummy_dat.columns, importance_coeff))).sort_values(by=[1], ascending=True)\n",
    "df_coeffs.columns = ['feature', 'coeff']\n",
    "df_coeffs.iloc[-1:-15:-1,:]"
   ]
  },
  {
   "cell_type": "code",
   "execution_count": 95,
   "metadata": {
    "scrolled": true
   },
   "outputs": [
    {
     "data": {
      "image/png": "[encoded data removed]",
      "text/plain": [
       "<matplotlib.figure.Figure at 0x1150f3350>"
      ]
     },
     "metadata": {},
     "output_type": "display_data"
    }
   ],
   "source": [
    "import matplotlib.pyplot as plt\n",
    "\n",
    "% matplotlib inline\n",
    "# Always make it pretty.\n",
    "plt.style.use('ggplot')\n",
    "ax = df_coeffs.plot.barh()\n",
    "t = np.arange(X.shape[1])\n",
    "ax.set_yticks(t)\n",
    "ax.set_yticklabels(df_coeffs['feature'])\n",
    "plt.rcParams[\"figure.figsize\"] = (18,20)\n",
    "plt.show()"
   ]
  },
  {
   "cell_type": "code",
   "execution_count": null,
   "metadata": {
    "collapsed": true
   },
   "outputs": [],
   "source": []
  }
 ],
 "metadata": {
  "kernelspec": {
   "display_name": "Python 2",
   "language": "python",
   "name": "python2"
  },
  "language_info": {
   "codemirror_mode": {
    "name": "ipython",
    "version": 2
   },
   "file_extension": ".py",
   "mimetype": "text/x-python",
   "name": "python",
   "nbconvert_exporter": "python",
   "pygments_lexer": "ipython2",
   "version": "2.7.13"
  }
 },
 "nbformat": 4,
 "nbformat_minor": 2
}
